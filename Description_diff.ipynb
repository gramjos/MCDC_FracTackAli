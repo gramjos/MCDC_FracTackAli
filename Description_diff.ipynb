{
 "cells": [
  {
   "cell_type": "code",
   "execution_count": 4,
   "id": "968838bc-d887-4d10-8ec5-5146cd38f929",
   "metadata": {},
   "outputs": [],
   "source": [
    "# eddie\n",
    "import pandas as pd"
   ]
  },
  {
   "cell_type": "code",
   "execution_count": 5,
   "id": "2b5b1ba5-7e70-4346-853f-22e1559a8d22",
   "metadata": {},
   "outputs": [],
   "source": [
    "df=pd.read_json(\"ted_try.p.json\")"
   ]
  },
  {
   "cell_type": "code",
   "execution_count": 6,
   "id": "7771fe29-0f7e-4490-a066-c871bddb5be0",
   "metadata": {},
   "outputs": [],
   "source": [
    "grouped_df = df.groupby('PhotoID')['AlbumTitle'].agg(list).reset_index()"
   ]
  },
  {
   "cell_type": "code",
   "execution_count": 7,
   "id": "a9033678-0767-4b4a-8520-a20994b24d76",
   "metadata": {},
   "outputs": [],
   "source": [
    "df = df.drop(['AlbumTitle','AlbumID'], axis=1)\n",
    "df = df.drop_duplicates(subset='PhotoID', keep='first') "
   ]
  },
  {
   "cell_type": "code",
   "execution_count": 8,
   "id": "e11125ec-0d13-4479-81fe-3aae333bcc66",
   "metadata": {},
   "outputs": [],
   "source": [
    "merged_df = pd.merge(grouped_df, df, on='PhotoID', how='left')"
   ]
  },
  {
   "cell_type": "code",
   "execution_count": 9,
   "id": "efcc7365-699d-40bd-8cb3-57a5fa3ff459",
   "metadata": {},
   "outputs": [],
   "source": [
    "merged_df.to_csv('tidied_threaded_data_pull.csv', index=False)"
   ]
  },
  {
   "cell_type": "code",
   "execution_count": 10,
   "id": "a0a69693-b16c-45bc-8443-98af050d1adf",
   "metadata": {
    "scrolled": true
   },
   "outputs": [],
   "source": [
    "desc_ser = merged_df['Description'].value_counts()"
   ]
  },
  {
   "cell_type": "code",
   "execution_count": 11,
   "id": "576df526-b162-4426-bf58-ce7f6c3b4305",
   "metadata": {
    "scrolled": true
   },
   "outputs": [
    {
     "data": {
      "text/plain": [
       "pandas.core.series.Series"
      ]
     },
     "execution_count": 11,
     "metadata": {},
     "output_type": "execute_result"
    }
   ],
   "source": [
    "type(desc_ser)"
   ]
  },
  {
   "cell_type": "code",
   "execution_count": 12,
   "id": "50255e8b-61ad-4ea5-bb8e-3656a185aa0c",
   "metadata": {
    "scrolled": true
   },
   "outputs": [
    {
     "data": {
      "text/plain": [
       "(47,)"
      ]
     },
     "execution_count": 12,
     "metadata": {},
     "output_type": "execute_result"
    }
   ],
   "source": [
    "desc_ser.shape"
   ]
  },
  {
   "cell_type": "code",
   "execution_count": 13,
   "id": "464fcbe5-bfa7-48e7-8a0a-2b29a0c05fc6",
   "metadata": {},
   "outputs": [
    {
     "data": {
      "text/plain": [
       "count     47.000000\n",
       "mean      57.829787\n",
       "std      107.493441\n",
       "min        1.000000\n",
       "25%        2.000000\n",
       "50%        4.000000\n",
       "75%       43.500000\n",
       "max      452.000000\n",
       "Name: count, dtype: float64"
      ]
     },
     "execution_count": 13,
     "metadata": {},
     "output_type": "execute_result"
    }
   ],
   "source": [
    "desc_ser.describe()"
   ]
  },
  {
   "cell_type": "code",
   "execution_count": 14,
   "id": "57839201-1396-4f69-8990-b4f537ec8307",
   "metadata": {},
   "outputs": [
    {
     "data": {
      "text/plain": [
       "np.int64(452)"
      ]
     },
     "execution_count": 14,
     "metadata": {},
     "output_type": "execute_result"
    }
   ],
   "source": [
    "desc_ser.iloc[0]"
   ]
  },
  {
   "cell_type": "code",
   "execution_count": 15,
   "id": "9529c211-f772-46c5-b6b7-226ae4173df2",
   "metadata": {},
   "outputs": [],
   "source": [
    "d = pd.DataFrame(desc_ser)"
   ]
  },
  {
   "cell_type": "code",
   "execution_count": 16,
   "id": "f163f29d-bb98-44ca-b6de-445bdb6ad44c",
   "metadata": {
    "scrolled": true
   },
   "outputs": [
    {
     "data": {
      "text/html": [
       "<div>\n",
       "<style scoped>\n",
       "    .dataframe tbody tr th:only-of-type {\n",
       "        vertical-align: middle;\n",
       "    }\n",
       "\n",
       "    .dataframe tbody tr th {\n",
       "        vertical-align: top;\n",
       "    }\n",
       "\n",
       "    .dataframe thead th {\n",
       "        text-align: right;\n",
       "    }\n",
       "</style>\n",
       "<table border=\"1\" class=\"dataframe\">\n",
       "  <thead>\n",
       "    <tr style=\"text-align: right;\">\n",
       "      <th></th>\n",
       "      <th>count</th>\n",
       "    </tr>\n",
       "    <tr>\n",
       "      <th>Description</th>\n",
       "      <th></th>\n",
       "    </tr>\n",
       "  </thead>\n",
       "  <tbody>\n",
       "    <tr>\n",
       "      <th>Photo citation: Ted Auch, FracTracker Alliance, 2023.\\n\\nEach photo label provides this information, explained below: \\n&lt;i&gt;Photographer_topic-sitespecific-siteowner-county-state_partneraffiliation_date(version)&lt;/i&gt;\\n\\nPhoto labels provide information about what the image shows and where it was made. The label may describe the type of infrastructure pictured, the environment the photo captures, or the type of operations pictured. For many images, labels also provide site-specific information, including operators and facility names, if it is known by the photographer. \\n\\nAll photo labels include location information, at the state and county levels, and at township/village levels if it is helpful. Please make use of the geolocation data we provide - especially helpful if you want to see other imagery made nearby! \\n\\nWe encourage you to reach out to us about any imagery you wish to make use of, so that we can assist you in finding the best snapshots for your purposes, and so we can further explain these specific details to help you understand the imagery and fully describe it for your own purposes.\\n\\nPlease reach out to us at &lt;b&gt;info@fractracker.org&lt;/b&gt; if you need more information about any of our images.\\n\\nFracTracker encourages you to use and share our imagery. Our resources can be used free of charge for noncommercial purposes, provided that the photo is cited in our format (found on each photo’s page). \\n\\nIf you wish to use our photos and/or videos for commercial purposes — including distributing them in publications for profit — please follow the steps on our &lt;a href=\"https://www.flickr.com/people/fractracker/\"&gt;‘About’ page&lt;/a&gt;.\\n\\nAs a nonprofit, we work hard to gather and share our insights in publicly accessible ways. If you appreciate what you see here, follow us on Twitter, Instagram, or Facebook @fractracker, and donate if you can, at &lt;a href=\"http://www.fractracker.org/donate\" rel=\"noreferrer nofollow\"&gt;www.fractracker.org/donate&lt;/a&gt;!</th>\n",
       "      <td>452</td>\n",
       "    </tr>\n",
       "    <tr>\n",
       "      <th>Photo citation: Ted Auch, FracTracker Alliance, 2019. Aerial support provided by LightHawk.\\n\\nEach photo label provides this information, explained below: \\n&lt;i&gt;Photographer_topic-sitespecific-siteowner-county-state_partneraffiliation_date(version)&lt;/i&gt;\\n\\nPhoto labels provide information about what the image shows and where it was made. The label may describe the type of infrastructure pictured, the environment the photo captures, or the type of operations pictured. For many images, labels also provide site-specific information, including operators and facility names, if it is known by the photographer. \\n\\nAll photo labels include location information, at the state and county levels, and at township/village levels if it is helpful. Please make use of the geolocation data we provide - especially helpful if you want to see other imagery made nearby! \\n\\nWe encourage you to reach out to us about any imagery you wish to make use of, so that we can assist you in finding the best snapshots for your purposes, and so we can further explain these specific details to help you understand the imagery and fully describe it for your own purposes.\\n\\nPlease reach out to us at &lt;b&gt;info@fractracker.org&lt;/b&gt; if you need more information about any of our images.\\n\\nFracTracker encourages you to use and share our imagery. Our resources can be used free of charge for noncommercial purposes, provided that the photo is cited in our format (found on each photo’s page). \\n\\nIf you wish to use our photos and/or videos for commercial purposes — including distributing them in publications for profit — please follow the steps on our &lt;a href=\"https://www.flickr.com/people/fractracker/\"&gt;‘About’ page&lt;/a&gt;.\\n\\nAs a nonprofit, we work hard to gather and share our insights in publicly accessible ways. If you appreciate what you see here, follow us on Twitter, Instagram, or Facebook @fractracker, and donate if you can, at &lt;a href=\"http://www.fractracker.org/donate\" rel=\"noreferrer nofollow\"&gt;www.fractracker.org/donate&lt;/a&gt;!</th>\n",
       "      <td>394</td>\n",
       "    </tr>\n",
       "    <tr>\n",
       "      <th>Photo citation: Ted Auch, FracTracker Alliance, 2018.\\n\\nEach photo label provides this information, explained below: \\n&lt;i&gt;Photographer_topic-sitespecific-siteowner-county-state_partneraffiliation_date(version)&lt;/i&gt;\\n\\nPhoto labels provide information about what the image shows and where it was made. The label may describe the type of infrastructure pictured, the environment the photo captures, or the type of operations pictured. For many images, labels also provide site-specific information, including operators and facility names, if it is known by the photographer. \\n\\nAll photo labels include location information, at the state and county levels, and at township/village levels if it is helpful. Please make use of the geolocation data we provide - especially helpful if you want to see other imagery made nearby! \\n\\nWe encourage you to reach out to us about any imagery you wish to make use of, so that we can assist you in finding the best snapshots for your purposes, and so we can further explain these specific details to help you understand the imagery and fully describe it for your own purposes.\\n\\nPlease reach out to us at &lt;b&gt;info@fractracker.org&lt;/b&gt; if you need more information about any of our images.\\n\\nFracTracker encourages you to use and share our imagery. Our resources can be used free of charge for noncommercial purposes, provided that the photo is cited in our format (found on each photo’s page). \\n\\nIf you wish to use our photos and/or videos for commercial purposes — including distributing them in publications for profit — please follow the steps on our &lt;a href=\"https://www.flickr.com/people/fractracker/\"&gt;‘About’ page&lt;/a&gt;.\\n\\nAs a nonprofit, we work hard to gather and share our insights in publicly accessible ways. If you appreciate what you see here, follow us on Twitter, Instagram, or Facebook @fractracker, and donate if you can, at &lt;a href=\"http://www.fractracker.org/donate\" rel=\"noreferrer nofollow\"&gt;www.fractracker.org/donate&lt;/a&gt;!</th>\n",
       "      <td>295</td>\n",
       "    </tr>\n",
       "    <tr>\n",
       "      <th>Photo citation: Ted Auch, FracTracker Alliance, 2021. Aerial support provided by LightHawk.\\n\\nEach photo label provides this information, explained below: \\n&lt;i&gt;Photographer_topic-sitespecific-siteowner-county-state_partneraffiliation_date(version)&lt;/i&gt;\\n\\nPhoto labels provide information about what the image shows and where it was made. The label may describe the type of infrastructure pictured, the environment the photo captures, or the type of operations pictured. For many images, labels also provide site-specific information, including operators and facility names, if it is known by the photographer. \\n\\nAll photo labels include location information, at the state and county levels, and at township/village levels if it is helpful. Please make use of the geolocation data we provide - especially helpful if you want to see other imagery made nearby! \\n\\nWe encourage you to reach out to us about any imagery you wish to make use of, so that we can assist you in finding the best snapshots for your purposes, and so we can further explain these specific details to help you understand the imagery and fully describe it for your own purposes.\\n\\nPlease reach out to us at &lt;b&gt;info@fractracker.org&lt;/b&gt; if you need more information about any of our images.\\n\\nFracTracker encourages you to use and share our imagery. Our resources can be used free of charge for noncommercial purposes, provided that the photo is cited in our format (found on each photo’s page). \\n\\nIf you wish to use our photos and/or videos for commercial purposes — including distributing them in publications for profit — please follow the steps on our &lt;a href=\"https://www.flickr.com/people/fractracker/\"&gt;‘About’ page&lt;/a&gt;.\\n\\nAs a nonprofit, we work hard to gather and share our insights in publicly accessible ways. If you appreciate what you see here, follow us on Twitter, Instagram, or Facebook @fractracker, and donate if you can, at &lt;a href=\"http://www.fractracker.org/donate\" rel=\"noreferrer nofollow\"&gt;www.fractracker.org/donate&lt;/a&gt;!</th>\n",
       "      <td>236</td>\n",
       "    </tr>\n",
       "    <tr>\n",
       "      <th>Photo citation: Ted Auch, 2022. Photo courtesy of FracTracker Alliance.\\n\\nEach photo label provides this information, explained below: \\n&lt;i&gt;Photographer_topic-sitespecific-siteowner-county-state_partneraffiliation_date(version)&lt;/i&gt;\\n\\nPhoto labels provide information about what the image shows and where it was made. The label may describe the type of infrastructure pictured, the environment the photo captures, or the type of operations pictured. For many images, labels also provide site-specific information, including operators and facility names, if it is known by the photographer. \\n\\nAll photo labels include location information, at the state and county levels, and at township/village levels if it is helpful. Please make use of the geolocation data we provide - especially helpful if you want to see other imagery made nearby! \\n\\nWe encourage you to reach out to us about any imagery you wish to make use of, so that we can assist you in finding the best snapshots for your purposes, and so we can further explain these specific details to help you understand the imagery and fully describe it for your own purposes.\\n\\nPlease reach out to us at &lt;b&gt;info@fractracker.org&lt;/b&gt; if you need more information about any of our images.\\n\\nFracTracker encourages you to use and share our imagery. Our resources can be used free of charge for noncommercial purposes, provided that the photo is cited in our format (found on each photo’s page). \\n\\nIf you wish to use our photos and/or videos for commercial purposes — including distributing them in publications for profit — please follow the steps on our &lt;a href=\"https://www.flickr.com/people/fractracker/\"&gt;‘About’ page&lt;/a&gt;.\\n\\nAs a nonprofit, we work hard to gather and share our insights in publicly accessible ways. If you appreciate what you see here, follow us on Twitter, Instagram, or Facebook @fractracker, and donate if you can, at &lt;a href=\"http://www.fractracker.org/donate\" rel=\"noreferrer nofollow\"&gt;www.fractracker.org/donate&lt;/a&gt;!</th>\n",
       "      <td>210</td>\n",
       "    </tr>\n",
       "    <tr>\n",
       "      <th>Photo citation: Ted Auch, FracTracker Alliance, 2020.\\n\\nEach photo label provides this information, explained below: \\n&lt;i&gt;Photographer_topic-sitespecific-siteowner-county-state_partneraffiliation_date(version)&lt;/i&gt;\\n\\nPhoto labels provide information about what the image shows and where it was made. The label may describe the type of infrastructure pictured, the environment the photo captures, or the type of operations pictured. For many images, labels also provide site-specific information, including operators and facility names, if it is known by the photographer. \\n\\nAll photo labels include location information, at the state and county levels, and at township/village levels if it is helpful. Please make use of the geolocation data we provide - especially helpful if you want to see other imagery made nearby! \\n\\nWe encourage you to reach out to us about any imagery you wish to make use of, so that we can assist you in finding the best snapshots for your purposes, and so we can further explain these specific details to help you understand the imagery and fully describe it for your own purposes.\\n\\nPlease reach out to us at &lt;b&gt;info@fractracker.org&lt;/b&gt; if you need more information about any of our images.\\n\\nFracTracker encourages you to use and share our imagery. Our resources can be used free of charge for noncommercial purposes, provided that the photo is cited in our format (found on each photo’s page). \\n\\nIf you wish to use our photos and/or videos for commercial purposes — including distributing them in publications for profit — please follow the steps on our &lt;a href=\"https://www.flickr.com/people/fractracker/\"&gt;‘About’ page&lt;/a&gt;.\\n\\nAs a nonprofit, we work hard to gather and share our insights in publicly accessible ways. If you appreciate what you see here, follow us on Twitter, Instagram, or Facebook @fractracker, and donate if you can, at &lt;a href=\"http://www.fractracker.org/donate\" rel=\"noreferrer nofollow\"&gt;www.fractracker.org/donate&lt;/a&gt;!</th>\n",
       "      <td>202</td>\n",
       "    </tr>\n",
       "    <tr>\n",
       "      <th>Photo citation: Ted Auch, FracTracker Alliance, 2021.\\n\\nEach photo label provides this information, explained below: \\n&lt;i&gt;Photographer_topic-sitespecific-siteowner-county-state_partneraffiliation_date(version)&lt;/i&gt;\\n\\nPhoto labels provide information about what the image shows and where it was made. The label may describe the type of infrastructure pictured, the environment the photo captures, or the type of operations pictured. For many images, labels also provide site-specific information, including operators and facility names, if it is known by the photographer. \\n\\nAll photo labels include location information, at the state and county levels, and at township/village levels if it is helpful. Please make use of the geolocation data we provide - especially helpful if you want to see other imagery made nearby! \\n\\nWe encourage you to reach out to us about any imagery you wish to make use of, so that we can assist you in finding the best snapshots for your purposes, and so we can further explain these specific details to help you understand the imagery and fully describe it for your own purposes.\\n\\nPlease reach out to us at &lt;b&gt;info@fractracker.org&lt;/b&gt; if you need more information about any of our images.\\n\\nFracTracker encourages you to use and share our imagery. Our resources can be used free of charge for noncommercial purposes, provided that the photo is cited in our format (found on each photo’s page). \\n\\nIf you wish to use our photos and/or videos for commercial purposes — including distributing them in publications for profit — please follow the steps on our &lt;a href=\"https://www.flickr.com/people/fractracker/\"&gt;‘About’ page&lt;/a&gt;.\\n\\nAs a nonprofit, we work hard to gather and share our insights in publicly accessible ways. If you appreciate what you see here, follow us on Twitter, Instagram, or Facebook @fractracker, and donate if you can, at &lt;a href=\"http://www.fractracker.org/donate\" rel=\"noreferrer nofollow\"&gt;www.fractracker.org/donate&lt;/a&gt;!</th>\n",
       "      <td>184</td>\n",
       "    </tr>\n",
       "    <tr>\n",
       "      <th>Photo citation: Ted Auch, FracTracker Alliance, 2016.\\n\\nEach photo label provides this information, explained below: \\n&lt;i&gt;Photographer_topic-sitespecific-siteowner-county-state_partneraffiliation_date(version)&lt;/i&gt;\\n\\nPhoto labels provide information about what the image shows and where it was made. The label may describe the type of infrastructure pictured, the environment the photo captures, or the type of operations pictured. For many images, labels also provide site-specific information, including operators and facility names, if it is known by the photographer. \\n\\nAll photo labels include location information, at the state and county levels, and at township/village levels if it is helpful. Please make use of the geolocation data we provide - especially helpful if you want to see other imagery made nearby! \\n\\nWe encourage you to reach out to us about any imagery you wish to make use of, so that we can assist you in finding the best snapshots for your purposes, and so we can further explain these specific details to help you understand the imagery and fully describe it for your own purposes.\\n\\nPlease reach out to us at &lt;b&gt;info@fractracker.org&lt;/b&gt; if you need more information about any of our images.\\n\\nFracTracker encourages you to use and share our imagery. Our resources can be used free of charge for noncommercial purposes, provided that the photo is cited in our format (found on each photo’s page). \\n\\nIf you wish to use our photos and/or videos for commercial purposes — including distributing them in publications for profit — please follow the steps on our &lt;a href=\"https://www.flickr.com/people/fractracker/\"&gt;‘About’ page&lt;/a&gt;.\\n\\nAs a nonprofit, we work hard to gather and share our insights in publicly accessible ways. If you appreciate what you see here, follow us on Twitter, Instagram, or Facebook @fractracker, and donate if you can, at &lt;a href=\"http://www.fractracker.org/donate\" rel=\"noreferrer nofollow\"&gt;www.fractracker.org/donate&lt;/a&gt;!</th>\n",
       "      <td>152</td>\n",
       "    </tr>\n",
       "    <tr>\n",
       "      <th>Photo citation: Ted Auch, FracTracker Alliance, 2019.\\n\\nEach photo label provides this information, explained below: \\n&lt;i&gt;Photographer_topic-sitespecific-siteowner-county-state_partneraffiliation_date(version)&lt;/i&gt;\\n\\nPhoto labels provide information about what the image shows and where it was made. The label may describe the type of infrastructure pictured, the environment the photo captures, or the type of operations pictured. For many images, labels also provide site-specific information, including operators and facility names, if it is known by the photographer. \\n\\nAll photo labels include location information, at the state and county levels, and at township/village levels if it is helpful. Please make use of the geolocation data we provide - especially helpful if you want to see other imagery made nearby! \\n\\nWe encourage you to reach out to us about any imagery you wish to make use of, so that we can assist you in finding the best snapshots for your purposes, and so we can further explain these specific details to help you understand the imagery and fully describe it for your own purposes.\\n\\nPlease reach out to us at &lt;b&gt;info@fractracker.org&lt;/b&gt; if you need more information about any of our images.\\n\\nFracTracker encourages you to use and share our imagery. Our resources can be used free of charge for noncommercial purposes, provided that the photo is cited in our format (found on each photo’s page). \\n\\nIf you wish to use our photos and/or videos for commercial purposes — including distributing them in publications for profit — please follow the steps on our &lt;a href=\"https://www.flickr.com/people/fractracker/\"&gt;‘About’ page&lt;/a&gt;.\\n\\nAs a nonprofit, we work hard to gather and share our insights in publicly accessible ways. If you appreciate what you see here, follow us on Twitter, Instagram, or Facebook @fractracker, and donate if you can, at &lt;a href=\"http://www.fractracker.org/donate\" rel=\"noreferrer nofollow\"&gt;www.fractracker.org/donate&lt;/a&gt;!</th>\n",
       "      <td>120</td>\n",
       "    </tr>\n",
       "    <tr>\n",
       "      <th>Photo citation: Ted Auch, FracTracker Alliance, 2017.\\n\\nEach photo label provides this information, explained below: \\n&lt;i&gt;Photographer_topic-sitespecific-siteowner-county-state_partneraffiliation_date(version)&lt;/i&gt;\\n\\nPhoto labels provide information about what the image shows and where it was made. The label may describe the type of infrastructure pictured, the environment the photo captures, or the type of operations pictured. For many images, labels also provide site-specific information, including operators and facility names, if it is known by the photographer. \\n\\nAll photo labels include location information, at the state and county levels, and at township/village levels if it is helpful. Please make use of the geolocation data we provide - especially helpful if you want to see other imagery made nearby! \\n\\nWe encourage you to reach out to us about any imagery you wish to make use of, so that we can assist you in finding the best snapshots for your purposes, and so we can further explain these specific details to help you understand the imagery and fully describe it for your own purposes.\\n\\nPlease reach out to us at &lt;b&gt;info@fractracker.org&lt;/b&gt; if you need more information about any of our images.\\n\\nFracTracker encourages you to use and share our imagery. Our resources can be used free of charge for noncommercial purposes, provided that the photo is cited in our format (found on each photo’s page). \\n\\nIf you wish to use our photos and/or videos for commercial purposes — including distributing them in publications for profit — please follow the steps on our &lt;a href=\"https://www.flickr.com/people/fractracker/\"&gt;‘About’ page&lt;/a&gt;.\\n\\nAs a nonprofit, we work hard to gather and share our insights in publicly accessible ways. If you appreciate what you see here, follow us on Twitter, Instagram, or Facebook @fractracker, and donate if you can, at &lt;a href=\"http://www.fractracker.org/donate\" rel=\"noreferrer nofollow\"&gt;www.fractracker.org/donate&lt;/a&gt;!</th>\n",
       "      <td>119</td>\n",
       "    </tr>\n",
       "    <tr>\n",
       "      <th>Photo citation: Ted Auch, FracTracker Alliance, 2015.\\n\\nEach photo label provides this information, explained below: \\n&lt;i&gt;Photographer_topic-sitespecific-siteowner-county-state_partneraffiliation_date(version)&lt;/i&gt;\\n\\nPhoto labels provide information about what the image shows and where it was made. The label may describe the type of infrastructure pictured, the environment the photo captures, or the type of operations pictured. For many images, labels also provide site-specific information, including operators and facility names, if it is known by the photographer. \\n\\nAll photo labels include location information, at the state and county levels, and at township/village levels if it is helpful. Please make use of the geolocation data we provide - especially helpful if you want to see other imagery made nearby! \\n\\nWe encourage you to reach out to us about any imagery you wish to make use of, so that we can assist you in finding the best snapshots for your purposes, and so we can further explain these specific details to help you understand the imagery and fully describe it for your own purposes.\\n\\nPlease reach out to us at &lt;b&gt;info@fractracker.org&lt;/b&gt; if you need more information about any of our images.\\n\\nFracTracker encourages you to use and share our imagery. Our resources can be used free of charge for noncommercial purposes, provided that the photo is cited in our format (found on each photo’s page). \\n\\nIf you wish to use our photos and/or videos for commercial purposes — including distributing them in publications for profit — please follow the steps on our &lt;a href=\"https://www.flickr.com/people/fractracker/\"&gt;‘About’ page&lt;/a&gt;.\\n\\nAs a nonprofit, we work hard to gather and share our insights in publicly accessible ways. If you appreciate what you see here, follow us on Twitter, Instagram, or Facebook @fractracker, and donate if you can, at &lt;a href=\"http://www.fractracker.org/donate\" rel=\"noreferrer nofollow\"&gt;www.fractracker.org/donate&lt;/a&gt;!</th>\n",
       "      <td>98</td>\n",
       "    </tr>\n",
       "    <tr>\n",
       "      <th>Photo citation: Ted Auch, FracTracker Alliance, 2024.\\n\\nEach photo label provides this information, explained below: \\n&lt;i&gt;Photographer_topic-sitespecific-siteowner-county-state_partneraffiliation_date(version)&lt;/i&gt;\\n\\nPhoto labels provide information about what the image shows and where it was made. The label may describe the type of infrastructure pictured, the environment the photo captures, or the type of operations pictured. For many images, labels also provide site-specific information, including operators and facility names, if it is known by the photographer. \\n\\nAll photo labels include location information, at the state and county levels, and at township/village levels if it is helpful. Please make use of the geolocation data we provide - especially helpful if you want to see other imagery made nearby! \\n\\nWe encourage you to reach out to us about any imagery you wish to make use of, so that we can assist you in finding the best snapshots for your purposes, and so we can further explain these specific details to help you understand the imagery and fully describe it for your own purposes.\\n\\nPlease reach out to us at &lt;b&gt;info@fractracker.org&lt;/b&gt; if you need more information about any of our images.\\n\\nFracTracker encourages you to use and share our imagery. Our resources can be used free of charge for noncommercial purposes, provided that the photo is cited in our format (found on each photo’s page). \\n\\nIf you wish to use our photos and/or videos for commercial purposes — including distributing them in publications for profit — please follow the steps on our &lt;a href=\"https://www.flickr.com/people/fractracker/\"&gt;‘About’ page&lt;/a&gt;.\\n\\nAs a nonprofit, we work hard to gather and share our insights in publicly accessible ways. If you appreciate what you see here, follow us on Twitter, Instagram, or Facebook @fractracker, and donate if you can, at &lt;a href=\"http://www.fractracker.org/donate\" rel=\"noreferrer nofollow\"&gt;www.fractracker.org/donate&lt;/a&gt;!</th>\n",
       "      <td>57</td>\n",
       "    </tr>\n",
       "    <tr>\n",
       "      <th>Photo citation: Ted Auch, FracTracker Alliance, 2018. Aerial support provided by LightHawk.\\n\\nEach photo label provides this information, explained below: \\n&lt;i&gt;Photographer_topic-sitespecific-siteowner-county-state_partneraffiliation_date(version)&lt;/i&gt;\\n\\nPhoto labels provide information about what the image shows and where it was made. The label may describe the type of infrastructure pictured, the environment the photo captures, or the type of operations pictured. For many images, labels also provide site-specific information, including operators and facility names, if it is known by the photographer. \\n\\nAll photo labels include location information, at the state and county levels, and at township/village levels if it is helpful. Please make use of the geolocation data we provide - especially helpful if you want to see other imagery made nearby! \\n\\nWe encourage you to reach out to us about any imagery you wish to make use of, so that we can assist you in finding the best snapshots for your purposes, and so we can further explain these specific details to help you understand the imagery and fully describe it for your own purposes.\\n\\nPlease reach out to us at &lt;b&gt;info@fractracker.org&lt;/b&gt; if you need more information about any of our images.\\n\\nFracTracker encourages you to use and share our imagery. Our resources can be used free of charge for noncommercial purposes, provided that the photo is cited in our format (found on each photo’s page). \\n\\nIf you wish to use our photos and/or videos for commercial purposes — including distributing them in publications for profit — please follow the steps on our &lt;a href=\"https://www.flickr.com/people/fractracker/\"&gt;‘About’ page&lt;/a&gt;.\\n\\nAs a nonprofit, we work hard to gather and share our insights in publicly accessible ways. If you appreciate what you see here, follow us on Twitter, Instagram, or Facebook @fractracker, and donate if you can, at &lt;a href=\"http://www.fractracker.org/donate\" rel=\"noreferrer nofollow\"&gt;www.fractracker.org/donate&lt;/a&gt;!</th>\n",
       "      <td>30</td>\n",
       "    </tr>\n",
       "    <tr>\n",
       "      <th>Photo citation: Ted Auch, FracTracker Alliance, 2016. Aerial support provided by LightHawk.\\n\\nEach photo label provides this information, explained below: \\n&lt;i&gt;Photographer_topic-sitespecific-siteowner-county-state_partneraffiliation_date(version)&lt;/i&gt;\\n\\nPhoto labels provide information about what the image shows and where it was made. The label may describe the type of infrastructure pictured, the environment the photo captures, or the type of operations pictured. For many images, labels also provide site-specific information, including operators and facility names, if it is known by the photographer. \\n\\nAll photo labels include location information, at the state and county levels, and at township/village levels if it is helpful. Please make use of the geolocation data we provide - especially helpful if you want to see other imagery made nearby! \\n\\nWe encourage you to reach out to us about any imagery you wish to make use of, so that we can assist you in finding the best snapshots for your purposes, and so we can further explain these specific details to help you understand the imagery and fully describe it for your own purposes.\\n\\nPlease reach out to us at &lt;b&gt;info@fractracker.org&lt;/b&gt; if you need more information about any of our images.\\n\\nFracTracker encourages you to use and share our imagery. Our resources can be used free of charge for noncommercial purposes, provided that the photo is cited in our format (found on each photo’s page). \\n\\nIf you wish to use our photos and/or videos for commercial purposes — including distributing them in publications for profit — please follow the steps on our &lt;a href=\"https://www.flickr.com/people/fractracker/\"&gt;‘About’ page&lt;/a&gt;.\\n\\nAs a nonprofit, we work hard to gather and share our insights in publicly accessible ways. If you appreciate what you see here, follow us on Twitter, Instagram, or Facebook @fractracker, and donate if you can, at &lt;a href=\"http://www.fractracker.org/donate\" rel=\"noreferrer nofollow\"&gt;www.fractracker.org/donate&lt;/a&gt;!</th>\n",
       "      <td>26</td>\n",
       "    </tr>\n",
       "    <tr>\n",
       "      <th>Photo citation: Shannon Smith, FracTracker Alliance, 2021.\\n\\nEach photo label provides this information, explained below: \\n&lt;i&gt;Photographer_topic-sitespecific-siteowner-county-state_partneraffiliation_date(version)&lt;/i&gt;\\n\\nPhoto labels provide information about what the image shows and where it was made. The label may describe the type of infrastructure pictured, the environment the photo captures, or the type of operations pictured. For many images, labels also provide site-specific information, including operators and facility names, if it is known by the photographer. \\n\\nAll photo labels include location information, at the state and county levels, and at township/village levels if it is helpful. Please make use of the geolocation data we provide - especially helpful if you want to see other imagery made nearby! \\n\\nWe encourage you to reach out to us about any imagery you wish to make use of, so that we can assist you in finding the best snapshots for your purposes, and so we can further explain these specific details to help you understand the imagery and fully describe it for your own purposes.\\n\\nPlease reach out to us at &lt;b&gt;info@fractracker.org&lt;/b&gt; if you need more information about any of our images.\\n\\nFracTracker encourages you to use and share our imagery. Our resources can be used free of charge for noncommercial purposes, provided that the photo is cited in our format (found on each photo’s page). \\n\\nIf you wish to use our photos and/or videos for commercial purposes — including distributing them in publications for profit — please follow the steps on our &lt;a href=\"https://www.flickr.com/people/fractracker/\"&gt;‘About’ page&lt;/a&gt;.\\n\\nAs a nonprofit, we work hard to gather and share our insights in publicly accessible ways. If you appreciate what you see here, follow us on Twitter, Instagram, or Facebook @fractracker, and donate if you can, at &lt;a href=\"http://www.fractracker.org/donate\" rel=\"noreferrer nofollow\"&gt;www.fractracker.org/donate&lt;/a&gt;!</th>\n",
       "      <td>24</td>\n",
       "    </tr>\n",
       "    <tr>\n",
       "      <th>Photo citation: Ted Auch, FracTracker Alliance, 2013.\\n\\nEach photo label provides this information, explained below: \\n&lt;i&gt;Photographer_topic-sitespecific-siteowner-county-state_partneraffiliation_date(version)&lt;/i&gt;\\n\\nPhoto labels provide information about what the image shows and where it was made. The label may describe the type of infrastructure pictured, the environment the photo captures, or the type of operations pictured. For many images, labels also provide site-specific information, including operators and facility names, if it is known by the photographer. \\n\\nAll photo labels include location information, at the state and county levels, and at township/village levels if it is helpful. Please make use of the geolocation data we provide - especially helpful if you want to see other imagery made nearby! \\n\\nWe encourage you to reach out to us about any imagery you wish to make use of, so that we can assist you in finding the best snapshots for your purposes, and so we can further explain these specific details to help you understand the imagery and fully describe it for your own purposes.\\n\\nPlease reach out to us at &lt;b&gt;info@fractracker.org&lt;/b&gt; if you need more information about any of our images.\\n\\nFracTracker encourages you to use and share our imagery. Our resources can be used free of charge for noncommercial purposes, provided that the photo is cited in our format (found on each photo’s page). \\n\\nIf you wish to use our photos and/or videos for commercial purposes — including distributing them in publications for profit — please follow the steps on our &lt;a href=\"https://www.flickr.com/people/fractracker/\"&gt;‘About’ page&lt;/a&gt;.\\n\\nAs a nonprofit, we work hard to gather and share our insights in publicly accessible ways. If you appreciate what you see here, follow us on Twitter, Instagram, or Facebook @fractracker, and donate if you can, at &lt;a href=\"http://www.fractracker.org/donate\" rel=\"noreferrer nofollow\"&gt;www.fractracker.org/donate&lt;/a&gt;!</th>\n",
       "      <td>16</td>\n",
       "    </tr>\n",
       "    <tr>\n",
       "      <th>Photo citation: Matt Kelso, FracTracker Alliance, 2021.\\n\\nEach photo label provides this information, explained below: \\n&lt;i&gt;Photographer_topic-sitespecific-siteowner-county-state_partneraffiliation_date(version)&lt;/i&gt;\\n\\nPhoto labels provide information about what the image shows and where it was made. The label may describe the type of infrastructure pictured, the environment the photo captures, or the type of operations pictured. For many images, labels also provide site-specific information, including operators and facility names, if it is known by the photographer. \\n\\nAll photo labels include location information, at the state and county levels, and at township/village levels if it is helpful. Please make use of the geolocation data we provide - especially helpful if you want to see other imagery made nearby! \\n\\nWe encourage you to reach out to us about any imagery you wish to make use of, so that we can assist you in finding the best snapshots for your purposes, and so we can further explain these specific details to help you understand the imagery and fully describe it for your own purposes.\\n\\nPlease reach out to us at &lt;b&gt;info@fractracker.org&lt;/b&gt; if you need more information about any of our images.\\n\\nFracTracker encourages you to use and share our imagery. Our resources can be used free of charge for noncommercial purposes, provided that the photo is cited in our format (found on each photo’s page). \\n\\nIf you wish to use our photos and/or videos for commercial purposes — including distributing them in publications for profit — please follow the steps on our &lt;a href=\"https://www.flickr.com/people/fractracker/\"&gt;‘About’ page&lt;/a&gt;.\\n\\nAs a nonprofit, we work hard to gather and share our insights in publicly accessible ways. If you appreciate what you see here, follow us on Twitter, Instagram, or Facebook @fractracker, and donate if you can, at &lt;a href=\"http://www.fractracker.org/donate\" rel=\"noreferrer nofollow\"&gt;www.fractracker.org/donate&lt;/a&gt;!</th>\n",
       "      <td>14</td>\n",
       "    </tr>\n",
       "    <tr>\n",
       "      <th>Photo citation: Rebecca Johnson, FracTracker Alliance, 2021.\\n\\nEach photo label provides this information, explained below: \\n&lt;i&gt;Photographer_topic-sitespecific-siteowner-county-state_partneraffiliation_date(version)&lt;/i&gt;\\n\\nPhoto labels provide information about what the image shows and where it was made. The label may describe the type of infrastructure pictured, the environment the photo captures, or the type of operations pictured. For many images, labels also provide site-specific information, including operators and facility names, if it is known by the photographer. \\n\\nAll photo labels include location information, at the state and county levels, and at township/village levels if it is helpful. Please make use of the geolocation data we provide - especially helpful if you want to see other imagery made nearby! \\n\\nWe encourage you to reach out to us about any imagery you wish to make use of, so that we can assist you in finding the best snapshots for your purposes, and so we can further explain these specific details to help you understand the imagery and fully describe it for your own purposes.\\n\\nPlease reach out to us at &lt;b&gt;info@fractracker.org&lt;/b&gt; if you need more information about any of our images.\\n\\nFracTracker encourages you to use and share our imagery. Our resources can be used free of charge for noncommercial purposes, provided that the photo is cited in our format (found on each photo’s page). \\n\\nIf you wish to use our photos and/or videos for commercial purposes — including distributing them in publications for profit — please follow the steps on our &lt;a href=\"https://www.flickr.com/people/fractracker/\"&gt;‘About’ page&lt;/a&gt;.\\n\\nAs a nonprofit, we work hard to gather and share our insights in publicly accessible ways. If you appreciate what you see here, follow us on Twitter, Instagram, or Facebook @fractracker, and donate if you can, at &lt;a href=\"http://www.fractracker.org/donate\" rel=\"noreferrer nofollow\"&gt;www.fractracker.org/donate&lt;/a&gt;!</th>\n",
       "      <td>14</td>\n",
       "    </tr>\n",
       "    <tr>\n",
       "      <th>Photo citation: Erica Jackson, FracTracker Alliance, 2021.\\n\\nEach photo label provides this information, explained below: \\n&lt;i&gt;Photographer_topic-sitespecific-siteowner-county-state_partneraffiliation_date(version)&lt;/i&gt;\\n\\nPhoto labels provide information about what the image shows and where it was made. The label may describe the type of infrastructure pictured, the environment the photo captures, or the type of operations pictured. For many images, labels also provide site-specific information, including operators and facility names, if it is known by the photographer. \\n\\nAll photo labels include location information, at the state and county levels, and at township/village levels if it is helpful. Please make use of the geolocation data we provide - especially helpful if you want to see other imagery made nearby! \\n\\nWe encourage you to reach out to us about any imagery you wish to make use of, so that we can assist you in finding the best snapshots for your purposes, and so we can further explain these specific details to help you understand the imagery and fully describe it for your own purposes.\\n\\nPlease reach out to us at &lt;b&gt;info@fractracker.org&lt;/b&gt; if you need more information about any of our images.\\n\\nFracTracker encourages you to use and share our imagery. Our resources can be used free of charge for noncommercial purposes, provided that the photo is cited in our format (found on each photo’s page). \\n\\nIf you wish to use our photos and/or videos for commercial purposes — including distributing them in publications for profit — please follow the steps on our &lt;a href=\"https://www.flickr.com/people/fractracker/\"&gt;‘About’ page&lt;/a&gt;.\\n\\nAs a nonprofit, we work hard to gather and share our insights in publicly accessible ways. If you appreciate what you see here, follow us on Twitter, Instagram, or Facebook @fractracker, and donate if you can, at &lt;a href=\"http://www.fractracker.org/donate\" rel=\"noreferrer nofollow\"&gt;www.fractracker.org/donate&lt;/a&gt;!</th>\n",
       "      <td>13</td>\n",
       "    </tr>\n",
       "    <tr>\n",
       "      <th>Photo citation: Karen Edelstein, FracTracker Alliance, 2021.\\n\\nEach photo label provides this information, explained below: \\n&lt;i&gt;Photographer_topic-sitespecific-siteowner-county-state_partneraffiliation_date(version)&lt;/i&gt;\\n\\nPhoto labels provide information about what the image shows and where it was made. The label may describe the type of infrastructure pictured, the environment the photo captures, or the type of operations pictured. For many images, labels also provide site-specific information, including operators and facility names, if it is known by the photographer. \\n\\nAll photo labels include location information, at the state and county levels, and at township/village levels if it is helpful. Please make use of the geolocation data we provide - especially helpful if you want to see other imagery made nearby! \\n\\nWe encourage you to reach out to us about any imagery you wish to make use of, so that we can assist you in finding the best snapshots for your purposes, and so we can further explain these specific details to help you understand the imagery and fully describe it for your own purposes.\\n\\nPlease reach out to us at &lt;b&gt;info@fractracker.org&lt;/b&gt; if you need more information about any of our images.\\n\\nFracTracker encourages you to use and share our imagery. Our resources can be used free of charge for noncommercial purposes, provided that the photo is cited in our format (found on each photo’s page). \\n\\nIf you wish to use our photos and/or videos for commercial purposes — including distributing them in publications for profit — please follow the steps on our &lt;a href=\"https://www.flickr.com/people/fractracker/\"&gt;‘About’ page&lt;/a&gt;.\\n\\nAs a nonprofit, we work hard to gather and share our insights in publicly accessible ways. If you appreciate what you see here, follow us on Twitter, Instagram, or Facebook @fractracker, and donate if you can, at &lt;a href=\"http://www.fractracker.org/donate\" rel=\"noreferrer nofollow\"&gt;www.fractracker.org/donate&lt;/a&gt;!</th>\n",
       "      <td>7</td>\n",
       "    </tr>\n",
       "    <tr>\n",
       "      <th>Photo citation: Brook Lenker, FracTracker Alliance, 2013.\\n\\nEach photo label provides this information, explained below: \\n&lt;i&gt;Photographer_topic-sitespecific-siteowner-county-state_partneraffiliation_date(version)&lt;/i&gt;\\n\\nPhoto labels provide information about what the image shows and where it was made. The label may describe the type of infrastructure pictured, the environment the photo captures, or the type of operations pictured. For many images, labels also provide site-specific information, including operators and facility names, if it is known by the photographer. \\n\\nAll photo labels include location information, at the state and county levels, and at township/village levels if it is helpful. Please make use of the geolocation data we provide - especially helpful if you want to see other imagery made nearby! \\n\\nWe encourage you to reach out to us about any imagery you wish to make use of, so that we can assist you in finding the best snapshots for your purposes, and so we can further explain these specific details to help you understand the imagery and fully describe it for your own purposes.\\n\\nPlease reach out to us at &lt;b&gt;info@fractracker.org&lt;/b&gt; if you need more information about any of our images.\\n\\nFracTracker encourages you to use and share our imagery. Our resources can be used free of charge for noncommercial purposes, provided that the photo is cited in our format (found on each photo’s page). \\n\\nIf you wish to use our photos and/or videos for commercial purposes — including distributing them in publications for profit — please follow the steps on our &lt;a href=\"https://www.flickr.com/people/fractracker/\"&gt;‘About’ page&lt;/a&gt;.\\n\\nAs a nonprofit, we work hard to gather and share our insights in publicly accessible ways. If you appreciate what you see here, follow us on Twitter, Instagram, or Facebook @fractracker, and donate if you can, at &lt;a href=\"http://www.fractracker.org/donate\" rel=\"noreferrer nofollow\"&gt;www.fractracker.org/donate&lt;/a&gt;!</th>\n",
       "      <td>5</td>\n",
       "    </tr>\n",
       "    <tr>\n",
       "      <th>Dick Martin, 2021. Photo courtesy of FracTracker Alliance.\\n\\nEach photo label provides this information, explained below: \\n&lt;i&gt;Photographer_topic-sitespecific-siteowner-county-state_partneraffiliation_date(version)&lt;/i&gt;\\n\\nPhoto labels provide information about what the image shows and where it was made. The label may describe the type of infrastructure pictured, the environment the photo captures, or the type of operations pictured. For many images, labels also provide site-specific information, including operators and facility names, if it is known by the photographer. \\n\\nAll photo labels include location information, at the state and county levels, and at township/village levels if it is helpful. Please make use of the geolocation data we provide - especially helpful if you want to see other imagery made nearby! \\n\\nWe encourage you to reach out to us about any imagery you wish to make use of, so that we can assist you in finding the best snapshots for your purposes, and so we can further explain these specific details to help you understand the imagery and fully describe it for your own purposes.\\n\\nPlease reach out to us at &lt;b&gt;info@fractracker.org&lt;/b&gt; if you need more information about any of our images.\\n\\nFracTracker encourages you to use and share our imagery. Our resources can be used free of charge for noncommercial purposes, provided that the photo is cited in our format (found on each photo’s page). \\n\\nIf you wish to use our photos and/or videos for commercial purposes — including distributing them in publications for profit — please follow the steps on our &lt;a href=\"https://www.flickr.com/people/fractracker/\"&gt;‘About’ page&lt;/a&gt;.\\n\\nAs a nonprofit, we work hard to gather and share our insights in publicly accessible ways. If you appreciate what you see here, follow us on Twitter, Instagram, or Facebook @fractracker, and donate if you can, at &lt;a href=\"http://www.fractracker.org/donate\" rel=\"noreferrer nofollow\"&gt;www.fractracker.org/donate&lt;/a&gt;!</th>\n",
       "      <td>4</td>\n",
       "    </tr>\n",
       "    <tr>\n",
       "      <th>This site includes a very active flare stack and mini-compressors.\\n\\nPhoto citation: Ted Auch, FracTracker Alliance, 2021.\\n\\nEach photo label provides this information, explained below: \\n&lt;i&gt;Photographer_topic-sitespecific-siteowner-county-state_partneraffiliation_date(version)&lt;/i&gt;\\n\\nPhoto labels provide information about what the image shows and where it was made. The label may describe the type of infrastructure pictured, the environment the photo captures, or the type of operations pictured. For many images, labels also provide site-specific information, including operators and facility names, if it is known by the photographer. \\n\\nAll photo labels include location information, at the state and county levels, and at township/village levels if it is helpful. Please make use of the geolocation data we provide - especially helpful if you want to see other imagery made nearby! \\n\\nWe encourage you to reach out to us about any imagery you wish to make use of, so that we can assist you in finding the best snapshots for your purposes, and so we can further explain these specific details to help you understand the imagery and fully describe it for your own purposes.\\n\\nPlease reach out to us at &lt;b&gt;info@fractracker.org&lt;/b&gt; if you need more information about any of our images.\\n\\nFracTracker encourages you to use and share our imagery. Our resources can be used free of charge for noncommercial purposes, provided that the photo is cited in our format (found on each photo’s page). \\n\\nIf you wish to use our photos and/or videos for commercial purposes — including distributing them in publications for profit — please follow the steps on our &lt;a href=\"https://www.flickr.com/people/fractracker/\"&gt;‘About’ page&lt;/a&gt;.\\n\\nAs a nonprofit, we work hard to gather and share our insights in publicly accessible ways. If you appreciate what you see here, follow us on Twitter, Instagram, or Facebook @fractracker, and donate if you can, at &lt;a href=\"http://www.fractracker.org/donate\" rel=\"noreferrer nofollow\"&gt;www.fractracker.org/donate&lt;/a&gt;!</th>\n",
       "      <td>4</td>\n",
       "    </tr>\n",
       "    <tr>\n",
       "      <th></th>\n",
       "      <td>4</td>\n",
       "    </tr>\n",
       "    <tr>\n",
       "      <th>Photo citation: Sam Rubright, FracTracker Alliance, 2018.\\n\\nEach photo label provides this information, explained below: \\n&lt;i&gt;Photographer_topic-sitespecific-siteowner-county-state_partneraffiliation_date(version)&lt;/i&gt;\\n\\nPhoto labels provide information about what the image shows and where it was made. The label may describe the type of infrastructure pictured, the environment the photo captures, or the type of operations pictured. For many images, labels also provide site-specific information, including operators and facility names, if it is known by the photographer. \\n\\nAll photo labels include location information, at the state and county levels, and at township/village levels if it is helpful. Please make use of the geolocation data we provide - especially helpful if you want to see other imagery made nearby! \\n\\nWe encourage you to reach out to us about any imagery you wish to make use of, so that we can assist you in finding the best snapshots for your purposes, and so we can further explain these specific details to help you understand the imagery and fully describe it for your own purposes.\\n\\nPlease reach out to us at &lt;b&gt;info@fractracker.org&lt;/b&gt; if you need more information about any of our images.\\n\\nFracTracker encourages you to use and share our imagery. Our resources can be used free of charge for noncommercial purposes, provided that the photo is cited in our format (found on each photo’s page). \\n\\nIf you wish to use our photos and/or videos for commercial purposes — including distributing them in publications for profit — please follow the steps on our &lt;a href=\"https://www.flickr.com/people/fractracker/\"&gt;‘About’ page&lt;/a&gt;.\\n\\nAs a nonprofit, we work hard to gather and share our insights in publicly accessible ways. If you appreciate what you see here, follow us on Twitter, Instagram, or Facebook @fractracker, and donate if you can, at &lt;a href=\"http://www.fractracker.org/donate\" rel=\"noreferrer nofollow\"&gt;www.fractracker.org/donate&lt;/a&gt;!</th>\n",
       "      <td>3</td>\n",
       "    </tr>\n",
       "    <tr>\n",
       "      <th>Photo citation: Ted Auch, FracTracker Alliance, 2016.\\n\\nEach photo label provides this information, explained below:\\n&lt;i&gt;Photographer_topic-sitespecific-siteowner-county-state_partneraffiliation_date(version)&lt;/i&gt;\\n\\nPhoto labels provide information about what the image shows and where it was made. The label may describe the type of infrastructure pictured, the environment the photo captures, or the type of operations pictured. For many images, labels also provide site-specific information, including operators and facility names, if it is known by the photographer. \\n\\nAll photo labels include location information, at the state and county levels, and at township/village levels if it is helpful. Please make use of the geolocation data we provide - especially helpful if you want to see other imagery made nearby! \\n\\nWe encourage you to reach out to us about any imagery you wish to make use of, so that we can assist you in finding the best snapshots for your purposes, and so we can further explain these specific details to help you understand the imagery and fully describe it for your own purposes.\\n\\nPlease reach out to us at &lt;b&gt;info@fractracker.org&lt;/b&gt; if you need more information about any of our images.\\n\\nFracTracker encourages you to use and share our imagery. Our resources can be used free of charge for noncommercial purposes, provided that the photo is cited in our format (found on each photo’s page). \\n\\nIf you wish to use our photos and/or videos for commercial purposes — including distributing them in publications for profit — please follow the steps on our &lt;a href=\"https://www.flickr.com/people/fractracker/\"&gt;‘About’ page&lt;/a&gt;.\\n\\nAs a nonprofit, we work hard to gather and share our insights in publicly accessible ways. If you appreciate what you see here, follow us on Twitter, Instagram, or Facebook @fractracker, and donate if you can, at &lt;a href=\"http://www.fractracker.org/donate\" rel=\"noreferrer nofollow\"&gt;www.fractracker.org/donate&lt;/a&gt;!</th>\n",
       "      <td>3</td>\n",
       "    </tr>\n",
       "    <tr>\n",
       "      <th>Photo citation: Ted Auch, FracTracker Alliance, 2015.\\n\\nEach photo label provides this information, explained below:\\n&lt;i&gt;Photographer_topic-sitespecific-siteowner-county-state_partneraffiliation_date(version)&lt;/i&gt;\\n\\nPhoto labels provide information about what the image shows and where it was made. The label may describe the type of infrastructure pictured, the environment the photo captures, or the type of operations pictured. For many images, labels also provide site-specific information, including operators and facility names, if it is known by the photographer. \\n\\nAll photo labels include location information, at the state and county levels, and at township/village levels if it is helpful. Please make use of the geolocation data we provide - especially helpful if you want to see other imagery made nearby! \\n\\nWe encourage you to reach out to us about any imagery you wish to make use of, so that we can assist you in finding the best snapshots for your purposes, and so we can further explain these specific details to help you understand the imagery and fully describe it for your own purposes.\\n\\nPlease reach out to us at &lt;b&gt;info@fractracker.org&lt;/b&gt; if you need more information about any of our images.\\n\\nFracTracker encourages you to use and share our imagery. Our resources can be used free of charge for noncommercial purposes, provided that the photo is cited in our format (found on each photo’s page). \\n\\nIf you wish to use our photos and/or videos for commercial purposes — including distributing them in publications for profit — please follow the steps on our &lt;a href=\"https://www.flickr.com/people/fractracker/\"&gt;‘About’ page&lt;/a&gt;.\\n\\nAs a nonprofit, we work hard to gather and share our insights in publicly accessible ways. If you appreciate what you see here, follow us on Twitter, Instagram, or Facebook @fractracker, and donate if you can, at &lt;a href=\"http://www.fractracker.org/donate\" rel=\"noreferrer nofollow\"&gt;www.fractracker.org/donate&lt;/a&gt;!</th>\n",
       "      <td>3</td>\n",
       "    </tr>\n",
       "    <tr>\n",
       "      <th>Photo citation: Ted Auch, FracTracker Alliance, 2014.\\n\\nEach photo label provides this information, explained below: \\n&lt;i&gt;Photographer_topic-sitespecific-siteowner-county-state_partneraffiliation_date(version)&lt;/i&gt;\\n\\nPhoto labels provide information about what the image shows and where it was made. The label may describe the type of infrastructure pictured, the environment the photo captures, or the type of operations pictured. For many images, labels also provide site-specific information, including operators and facility names, if it is known by the photographer. \\n\\nAll photo labels include location information, at the state and county levels, and at township/village levels if it is helpful. Please make use of the geolocation data we provide - especially helpful if you want to see other imagery made nearby! \\n\\nWe encourage you to reach out to us about any imagery you wish to make use of, so that we can assist you in finding the best snapshots for your purposes, and so we can further explain these specific details to help you understand the imagery and fully describe it for your own purposes.\\n\\nPlease reach out to us at &lt;b&gt;info@fractracker.org&lt;/b&gt; if you need more information about any of our images.\\n\\nFracTracker encourages you to use and share our imagery. Our resources can be used free of charge for noncommercial purposes, provided that the photo is cited in our format (found on each photo’s page). \\n\\nIf you wish to use our photos and/or videos for commercial purposes — including distributing them in publications for profit — please follow the steps on our &lt;a href=\"https://www.flickr.com/people/fractracker/\"&gt;‘About’ page&lt;/a&gt;.\\n\\nAs a nonprofit, we work hard to gather and share our insights in publicly accessible ways. If you appreciate what you see here, follow us on Twitter, Instagram, or Facebook @fractracker, and donate if you can, at &lt;a href=\"http://www.fractracker.org/donate\" rel=\"noreferrer nofollow\"&gt;www.fractracker.org/donate&lt;/a&gt;!</th>\n",
       "      <td>2</td>\n",
       "    </tr>\n",
       "    <tr>\n",
       "      <th>Photo citation: Ted Auch, FracTracker Alliance, 2017. Aerial support provided by LightHawk.\\n\\nEach photo label provides this information, explained below: \\n&lt;i&gt;Photographer_topic-sitespecific-siteowner-county-state_partneraffiliation_date(version)&lt;/i&gt;\\n\\nPhoto labels provide information about what the image shows and where it was made. The label may describe the type of infrastructure pictured, the environment the photo captures, or the type of operations pictured. For many images, labels also provide site-specific information, including operators and facility names, if it is known by the photographer. \\n\\nAll photo labels include location information, at the state and county levels, and at township/village levels if it is helpful. Please make use of the geolocation data we provide - especially helpful if you want to see other imagery made nearby! \\n\\nWe encourage you to reach out to us about any imagery you wish to make use of, so that we can assist you in finding the best snapshots for your purposes, and so we can further explain these specific details to help you understand the imagery and fully describe it for your own purposes.\\n\\nPlease reach out to us at &lt;b&gt;info@fractracker.org&lt;/b&gt; if you need more information about any of our images.\\n\\nFracTracker encourages you to use and share our imagery. Our resources can be used free of charge for noncommercial purposes, provided that the photo is cited in our format (found on each photo’s page). \\n\\nIf you wish to use our photos and/or videos for commercial purposes — including distributing them in publications for profit — please follow the steps on our &lt;a href=\"https://www.flickr.com/people/fractracker/\"&gt;‘About’ page&lt;/a&gt;.\\n\\nAs a nonprofit, we work hard to gather and share our insights in publicly accessible ways. If you appreciate what you see here, follow us on Twitter, Instagram, or Facebook @fractracker, and donate if you can, at &lt;a href=\"http://www.fractracker.org/donate\" rel=\"noreferrer nofollow\"&gt;www.fractracker.org/donate&lt;/a&gt;!</th>\n",
       "      <td>2</td>\n",
       "    </tr>\n",
       "    <tr>\n",
       "      <th>Hank Boschen, 2014. Photo courtesy of FracTracker Alliance\\n\\nEach photo label provides this information, explained below: \\n&lt;i&gt;Photographer_topic-sitespecific-siteowner-county-state_partneraffiliation_date(version)&lt;/i&gt;\\n\\nPhoto labels provide information about what the image shows and where it was made. The label may describe the type of infrastructure pictured, the environment the photo captures, or the type of operations pictured. For many images, labels also provide site-specific information, including operators and facility names, if it is known by the photographer. \\n\\nAll photo labels include location information, at the state and county levels, and at township/village levels if it is helpful. Please make use of the geolocation data we provide - especially helpful if you want to see other imagery made nearby! \\n\\nWe encourage you to reach out to us about any imagery you wish to make use of, so that we can assist you in finding the best snapshots for your purposes, and so we can further explain these specific details to help you understand the imagery and fully describe it for your own purposes.\\n\\nPlease reach out to us at &lt;b&gt;info@fractracker.org&lt;/b&gt; if you need more information about any of our images.\\n\\nFracTracker encourages you to use and share our imagery. Our resources can be used free of charge for noncommercial purposes, provided that the photo is cited in our format (found on each photo’s page). \\n\\nIf you wish to use our photos and/or videos for commercial purposes — including distributing them in publications for profit — please follow the steps on our &lt;a href=\"https://www.flickr.com/people/fractracker/\"&gt;‘About’ page&lt;/a&gt;.\\n\\nAs a nonprofit, we work hard to gather and share our insights in publicly accessible ways. If you appreciate what you see here, follow us on Twitter, Instagram, or Facebook @fractracker, and donate if you can, at &lt;a href=\"http://www.fractracker.org/donate\" rel=\"noreferrer nofollow\"&gt;www.fractracker.org/donate&lt;/a&gt;!</th>\n",
       "      <td>2</td>\n",
       "    </tr>\n",
       "    <tr>\n",
       "      <th>Photo citation: Ted Auch, FracTracker Alliance, 2014.\\n\\nEach photo label provides this information, explained below: \\n&lt;i&gt;Photographer_topic-sitespecific-siteowner-county-state_partneraffiliation_date(version)&lt;/i&gt;\\n\\nPhoto labels provide information about what the image shows and where it was made. The label may describe the type of infrastructure pictured, the environment the photo captures, or the type of operations pictured. For many images, labels also provide site-specific information, including operators and facility names, if it is known by the photographer. \\n\\nAll photo labels include location information, at the state and county levels, and at township/village levels if it is helpful. Please make use of the geolocation data we provide - especially helpful if you want to see other imagery made nearby! \\n\\nWe encourage you to reach out to us about any imagery you wish to make use of, so that we can assist you in finding the best snapshots for your purposes, and so we can further explain these specific details to help you understand the imagery and fully describe it for your own purposes.\\n\\nPlease reach out to us at &lt;b&gt;info@fractracker.org&lt;/b&gt; if you need more information about any of our images.\\n\\nFracTracker encourages you to use and share our imagery. Our resources can be used free of charge for noncommercial purposes, provided that the photo is cited in our format (found on each photo’s page). \\n\\nIf you wish to use our photos and/or videos for commercial purposes — including distributing them in publications for profit — please follow the steps on our &lt;a href=\"https://www.flickr.com/people/fractracker/\"&gt;‘About’ page&lt;/a&gt;.\\n\\nAs a nonprofit, we work hard to gather and share our insights in publicly accessible ways. If you appreciate what you see here, follow us on Twitter, Instagram, or Facebook @fractracker, and donate if you can, at &lt;a href=\"http://www.fractracker.org/donate\" rel=\"noreferrer nofollow\"&gt;www.fractracker.org/donate&lt;/a&gt;!</th>\n",
       "      <td>2</td>\n",
       "    </tr>\n",
       "    <tr>\n",
       "      <th>Bill Hughes, 2015. Photo courtesy of FracTracker Alliance.\\n\\nEach photo label provides this information, explained below: \\n&lt;i&gt;Photographer_topic-sitespecific-siteowner-county-state_partneraffiliation_date(version)&lt;/i&gt;\\n\\nPhoto labels provide information about what the image shows and where it was made. The label may describe the type of infrastructure pictured, the environment the photo captures, or the type of operations pictured. For many images, labels also provide site-specific information, including operators and facility names, if it is known by the photographer. \\n\\nAll photo labels include location information, at the state and county levels, and at township/village levels if it is helpful. Please make use of the geolocation data we provide - especially helpful if you want to see other imagery made nearby! \\n\\nWe encourage you to reach out to us about any imagery you wish to make use of, so that we can assist you in finding the best snapshots for your purposes, and so we can further explain these specific details to help you understand the imagery and fully describe it for your own purposes.\\n\\nPlease reach out to us at &lt;b&gt;info@fractracker.org&lt;/b&gt; if you need more information about any of our images.\\n\\nFracTracker encourages you to use and share our imagery. Our resources can be used free of charge for noncommercial purposes, provided that the photo is cited in our format (found on each photo’s page). \\n\\nIf you wish to use our photos and/or videos for commercial purposes — including distributing them in publications for profit — please follow the steps on our &lt;a href=\"https://www.flickr.com/people/fractracker/\"&gt;‘About’ page&lt;/a&gt;.\\n\\nAs a nonprofit, we work hard to gather and share our insights in publicly accessible ways. If you appreciate what you see here, follow us on Twitter, Instagram, or Facebook @fractracker, and donate if you can, at &lt;a href=\"http://www.fractracker.org/donate\" rel=\"noreferrer nofollow\"&gt;www.fractracker.org/donate&lt;/a&gt;!</th>\n",
       "      <td>2</td>\n",
       "    </tr>\n",
       "    <tr>\n",
       "      <th>This drone photo was taken from the Young horse farm in the foreground.\\n\\nPhoto citation: Ted Auch, FracTracker Alliance, 2021.\\n\\nEach photo label provides this information, explained below: \\n&lt;i&gt;Photographer_topic-sitespecific-siteowner-county-state_partneraffiliation_date(version)&lt;/i&gt;\\n\\nPhoto labels provide information about what the image shows and where it was made. The label may describe the type of infrastructure pictured, the environment the photo captures, or the type of operations pictured. For many images, labels also provide site-specific information, including operators and facility names, if it is known by the photographer. \\n\\nAll photo labels include location information, at the state and county levels, and at township/village levels if it is helpful. Please make use of the geolocation data we provide - especially helpful if you want to see other imagery made nearby! \\n\\nWe encourage you to reach out to us about any imagery you wish to make use of, so that we can assist you in finding the best snapshots for your purposes, and so we can further explain these specific details to help you understand the imagery and fully describe it for your own purposes.\\n\\nPlease reach out to us at &lt;b&gt;info@fractracker.org&lt;/b&gt; if you need more information about any of our images.\\n\\nFracTracker encourages you to use and share our imagery. Our resources can be used free of charge for noncommercial purposes, provided that the photo is cited in our format (found on each photo’s page). \\n\\nIf you wish to use our photos and/or videos for commercial purposes — including distributing them in publications for profit — please follow the steps on our &lt;a href=\"https://www.flickr.com/people/fractracker/\"&gt;‘About’ page&lt;/a&gt;.\\n\\nAs a nonprofit, we work hard to gather and share our insights in publicly accessible ways. If you appreciate what you see here, follow us on Twitter, Instagram, or Facebook @fractracker, and donate if you can, at &lt;a href=\"http://www.fractracker.org/donate\" rel=\"noreferrer nofollow\"&gt;www.fractracker.org/donate&lt;/a&gt;!</th>\n",
       "      <td>2</td>\n",
       "    </tr>\n",
       "    <tr>\n",
       "      <th>Photo citation: Brook Lenker, FracTracker Alliance, 2013.\\n\\nEach photo label provides this information, explained below:\\n&lt;i&gt;Photographer_topic-sitespecific-siteowner-county-state_partneraffiliation_date(version)&lt;/i&gt;\\n\\nPhoto labels provide information about what the image shows and where it was made. The label may describe the type of infrastructure pictured, the environment the photo captures, or the type of operations pictured. For many images, labels also provide site-specific information, including operators and facility names, if it is known by the photographer. \\n\\nAll photo labels include location information, at the state and county levels, and at township/village levels if it is helpful. Please make use of the geolocation data we provide - especially helpful if you want to see other imagery made nearby! \\n\\nWe encourage you to reach out to us about any imagery you wish to make use of, so that we can assist you in finding the best snapshots for your purposes, and so we can further explain these specific details to help you understand the imagery and fully describe it for your own purposes.\\n\\nPlease reach out to us at &lt;b&gt;info@fractracker.org&lt;/b&gt; if you need more information about any of our images.\\n\\nFracTracker encourages you to use and share our imagery. Our resources can be used free of charge for noncommercial purposes, provided that the photo is cited in our format (found on each photo’s page). \\n\\nIf you wish to use our photos and/or videos for commercial purposes — including distributing them in publications for profit — please follow the steps on our &lt;a href=\"https://www.flickr.com/people/fractracker/\"&gt;‘About’ page&lt;/a&gt;.\\n\\nAs a nonprofit, we work hard to gather and share our insights in publicly accessible ways. If you appreciate what you see here, follow us on Twitter, Instagram, or Facebook @fractracker, and donate if you can, at &lt;a href=\"http://www.fractracker.org/donate\" rel=\"noreferrer nofollow\"&gt;www.fractracker.org/donate&lt;/a&gt;!</th>\n",
       "      <td>2</td>\n",
       "    </tr>\n",
       "    <tr>\n",
       "      <th>Photo citation: Ted Auch, FracTracker Alliance, 2014.\\n\\nEach photo label provides this information, explained below:\\n&lt;i&gt;Photographer_topic-sitespecific-siteowner-county-state_partneraffiliation_date(version)&lt;/i&gt;\\n\\nPhoto labels provide information about what the image shows and where it was made. The label may describe the type of infrastructure pictured, the environment the photo captures, or the type of operations pictured. For many images, labels also provide site-specific information, including operators and facility names, if it is known by the photographer. \\n\\nAll photo labels include location information, at the state and county levels, and at township/village levels if it is helpful. Please make use of the geolocation data we provide - especially helpful if you want to see other imagery made nearby! \\n\\nWe encourage you to reach out to us about any imagery you wish to make use of, so that we can assist you in finding the best snapshots for your purposes, and so we can further explain these specific details to help you understand the imagery and fully describe it for your own purposes.\\n\\nPlease reach out to us at &lt;b&gt;info@fractracker.org&lt;/b&gt; if you need more information about any of our images.\\n\\nFracTracker encourages you to use and share our imagery. Our resources can be used free of charge for noncommercial purposes, provided that the photo is cited in our format (found on each photo’s page). \\n\\nIf you wish to use our photos and/or videos for commercial purposes — including distributing them in publications for profit — please follow the steps on our &lt;a href=\"https://www.flickr.com/people/fractracker/\"&gt;‘About’ page&lt;/a&gt;.\\n\\nAs a nonprofit, we work hard to gather and share our insights in publicly accessible ways. If you appreciate what you see here, follow us on Twitter, Instagram, or Facebook @fractracker, and donate if you can, at &lt;a href=\"http://www.fractracker.org/donate\" rel=\"noreferrer nofollow\"&gt;www.fractracker.org/donate&lt;/a&gt;!</th>\n",
       "      <td>2</td>\n",
       "    </tr>\n",
       "    <tr>\n",
       "      <th>Photo citation: Brook Lenker, FracTracker Alliance, 2019.\\n\\nEach photo label provides this information, explained below: \\n&lt;i&gt;Photographer_topic-sitespecific-siteowner-county-state_partneraffiliation_date(version)&lt;/i&gt;\\n\\nPhoto labels provide information about what the image shows and where it was made. The label may describe the type of infrastructure pictured, the environment the photo captures, or the type of operations pictured. For many images, labels also provide site-specific information, including operators and facility names, if it is known by the photographer. \\n\\nAll photo labels include location information, at the state and county levels, and at township/village levels if it is helpful. Please make use of the geolocation data we provide - especially helpful if you want to see other imagery made nearby! \\n\\nWe encourage you to reach out to us about any imagery you wish to make use of, so that we can assist you in finding the best snapshots for your purposes, and so we can further explain these specific details to help you understand the imagery and fully describe it for your own purposes.\\n\\nPlease reach out to us at &lt;b&gt;info@fractracker.org&lt;/b&gt; if you need more information about any of our images.\\n\\nFracTracker encourages you to use and share our imagery. Our resources can be used free of charge for noncommercial purposes, provided that the photo is cited in our format (found on each photo’s page). \\n\\nIf you wish to use our photos and/or videos for commercial purposes — including distributing them in publications for profit — please follow the steps on our &lt;a href=\"https://www.flickr.com/people/fractracker/\"&gt;‘About’ page&lt;/a&gt;.\\n\\nAs a nonprofit, we work hard to gather and share our insights in publicly accessible ways. If you appreciate what you see here, follow us on Twitter, Instagram, or Facebook @fractracker, and donate if you can, at &lt;a href=\"http://www.fractracker.org/donate\" rel=\"noreferrer nofollow\"&gt;www.fractracker.org/donate&lt;/a&gt;!</th>\n",
       "      <td>2</td>\n",
       "    </tr>\n",
       "    <tr>\n",
       "      <th>Linda Daul, 2014. Photo courtesy of FracTracker Alliance\\n\\nEach photo label provides this information, explained below: \\n&lt;i&gt;Photographer_topic-sitespecific-siteowner-county-state_partneraffiliation_date(version)&lt;/i&gt;\\n\\nPhoto labels provide information about what the image shows and where it was made. The label may describe the type of infrastructure pictured, the environment the photo captures, or the type of operations pictured. For many images, labels also provide site-specific information, including operators and facility names, if it is known by the photographer. \\n\\nAll photo labels include location information, at the state and county levels, and at township/village levels if it is helpful. Please make use of the geolocation data we provide - especially helpful if you want to see other imagery made nearby! \\n\\nWe encourage you to reach out to us about any imagery you wish to make use of, so that we can assist you in finding the best snapshots for your purposes, and so we can further explain these specific details to help you understand the imagery and fully describe it for your own purposes.\\n\\nPlease reach out to us at &lt;b&gt;info@fractracker.org&lt;/b&gt; if you need more information about any of our images.\\n\\nFracTracker encourages you to use and share our imagery. Our resources can be used free of charge for noncommercial purposes, provided that the photo is cited in our format (found on each photo’s page). \\n\\nIf you wish to use our photos and/or videos for commercial purposes — including distributing them in publications for profit — please follow the steps on our &lt;a href=\"https://www.flickr.com/people/fractracker/\"&gt;‘About’ page&lt;/a&gt;.\\n\\nAs a nonprofit, we work hard to gather and share our insights in publicly accessible ways. If you appreciate what you see here, follow us on Twitter, Instagram, or Facebook @fractracker, and donate if you can, at &lt;a href=\"http://www.fractracker.org/donate\" rel=\"noreferrer nofollow\"&gt;www.fractracker.org/donate&lt;/a&gt;!</th>\n",
       "      <td>1</td>\n",
       "    </tr>\n",
       "    <tr>\n",
       "      <th>Ric Zarwell, 2014. Photo courtesy of FracTracker Alliance\\n\\nEach photo label provides this information, explained below: \\n&lt;i&gt;Photographer_topic-sitespecific-siteowner-county-state_partneraffiliation_date(version)&lt;/i&gt;\\n\\nPhoto labels provide information about what the image shows and where it was made. The label may describe the type of infrastructure pictured, the environment the photo captures, or the type of operations pictured. For many images, labels also provide site-specific information, including operators and facility names, if it is known by the photographer. \\n\\nAll photo labels include location information, at the state and county levels, and at township/village levels if it is helpful. Please make use of the geolocation data we provide - especially helpful if you want to see other imagery made nearby! \\n\\nWe encourage you to reach out to us about any imagery you wish to make use of, so that we can assist you in finding the best snapshots for your purposes, and so we can further explain these specific details to help you understand the imagery and fully describe it for your own purposes.\\n\\nPlease reach out to us at &lt;b&gt;info@fractracker.org&lt;/b&gt; if you need more information about any of our images.\\n\\nFracTracker encourages you to use and share our imagery. Our resources can be used free of charge for noncommercial purposes, provided that the photo is cited in our format (found on each photo’s page). \\n\\nIf you wish to use our photos and/or videos for commercial purposes — including distributing them in publications for profit — please follow the steps on our &lt;a href=\"https://www.flickr.com/people/fractracker/\"&gt;‘About’ page&lt;/a&gt;.\\n\\nAs a nonprofit, we work hard to gather and share our insights in publicly accessible ways. If you appreciate what you see here, follow us on Twitter, Instagram, or Facebook @fractracker, and donate if you can, at &lt;a href=\"http://www.fractracker.org/donate\" rel=\"noreferrer nofollow\"&gt;www.fractracker.org/donate&lt;/a&gt;!</th>\n",
       "      <td>1</td>\n",
       "    </tr>\n",
       "    <tr>\n",
       "      <th>Photo citation: Ted Auch, FracTracker Alliance, 2019.\\n\\nEach photo label provides this information, explained below:\\n&lt;i&gt;Photographer_topic-sitespecific-siteowner-county-state_partneraffiliation_date(version)&lt;/i&gt;\\n\\nPhoto labels provide information about what the image shows and where it was made. The label may describe the type of infrastructure pictured, the environment the photo captures, or the type of operations pictured. For many images, labels also provide site-specific information, including operators and facility names, if it is known by the photographer. \\n\\nAll photo labels include location information, at the state and county levels, and at township/village levels if it is helpful. Please make use of the geolocation data we provide - especially helpful if you want to see other imagery made nearby! \\n\\nWe encourage you to reach out to us about any imagery you wish to make use of, so that we can assist you in finding the best snapshots for your purposes, and so we can further explain these specific details to help you understand the imagery and fully describe it for your own purposes.\\n\\nPlease reach out to us at &lt;b&gt;info@fractracker.org&lt;/b&gt; if you need more information about any of our images.\\n\\nFracTracker encourages you to use and share our imagery. Our resources can be used free of charge for noncommercial purposes, provided that the photo is cited in our format (found on each photo’s page). \\n\\nIf you wish to use our photos and/or videos for commercial purposes — including distributing them in publications for profit — please follow the steps on our &lt;a href=\"https://www.flickr.com/people/fractracker/\"&gt;‘About’ page&lt;/a&gt;.\\n\\nAs a nonprofit, we work hard to gather and share our insights in publicly accessible ways. If you appreciate what you see here, follow us on Twitter, Instagram, or Facebook @fractracker, and donate if you can, at &lt;a href=\"http://www.fractracker.org/donate\" rel=\"noreferrer nofollow\"&gt;www.fractracker.org/donate&lt;/a&gt;!</th>\n",
       "      <td>1</td>\n",
       "    </tr>\n",
       "    <tr>\n",
       "      <th>Photo citation: Brook Lenker, FracTracker Alliance, 2013.\\n\\nEach photo label provides this information, explained below: \\n&lt;i&gt;Photographer_topic-sitespecific-siteowner-county-state_partneraffiliation_date(version)&lt;/i&gt;\\n\\nPhoto labels provide information about what the image shows and where it was made. The label may describe the type of infrastructure pictured, the environment the photo captures, or the type of operations pictured. For many images, labels also provide site-specific information, including operators and facility names, if it is known by the photographer. \\n\\nAll photo labels include location information, at the state and county levels, and at township/village levels if it is helpful. Please make use of the geolocation data we provide - especially helpful if you want to see other imagery made nearby! \\n\\nWe encourage you to reach out to us about any imagery you wish to make use of, so that we can assist you in finding the best snapshots for your purposes, and so we can further explain these specific details to help you understand the imagery and fully describe it for your own purposes.\\n\\nPlease reach out to us at &lt;b&gt;info@fractracker.org&lt;/b&gt; if you need more information about any of our images.\\n\\nFracTracker encourages you to use and share our imagery. Our resources can be used free of charge for noncommercial purposes, provided that the photo is cited in our format (found on each photo’s page). \\n\\nIf you wish to use our photos and/or videos for commercial purposes — including distributing them in publications for profit — please follow the steps on our &lt;a href=\"https://www.flickr.com/people/fractracker/\"&gt;‘About’ page&lt;/a&gt;.\\n\\nAs a nonprofit, we work hard to gather and share our insights in publicly accessible ways. If you appreciate what you see here, follow us on Twitter, Instagram, or Facebook @fractracker, and donate if you can, at &lt;a href=\"http://www.fractracker.org/donate\" rel=\"noreferrer nofollow\"&gt;www.fractracker.org/donate&lt;/a&gt;!</th>\n",
       "      <td>1</td>\n",
       "    </tr>\n",
       "    <tr>\n",
       "      <th>Photo citation: Brook Lenker, FracTracker Alliance, 2013.\\n\\nEach photo label provides this information, explained below: \\n&lt;i&gt;Photographer_topic-sitespecific-siteowner-county-state_partneraffiliation_date(version)&lt;/i&gt;\\n\\nPhoto labels provide information about what the image shows and where it was made. The label may describe the type of infrastructure pictured, the environment the photo captures, or the type of operations pictured. For many images, labels also provide site-specific information, including operators and facility names, if it is known by the photographer. \\n\\nAll photo labels include location information, at the state and county levels, and at township/village levels if it is helpful. Please make use of the geolocation data we provide - especially helpful if you want to see other imagery made nearby! \\n\\nWe encourage you to reach out to us about any imagery you wish to make use of, so that we can assist you in finding the best snapshots for your purposes, and so we can further explain these specific details to help you understand the imagery and fully describe it for your own purposes.\\n\\nPlease reach out to us at &lt;b&gt;info@fractracker.org&lt;/b&gt; if you need more information about any of our images.\\n\\nFracTracker encourages you to use and share our imagery. Our resources can be used free of charge for noncommercial purposes, provided that the photo is cited in our format (found on each photo’s page). \\n\\nIf you wish to use our photos and/or videos for commercial purposes — including distributing them in publications for profit — please follow the steps on our &lt;a href=\"https://www.flickr.com/people/fractracker/\"&gt;‘About’ page&lt;/a&gt;.\\n\\nAs a nonprofit, we work hard to gather and share our insights in publicly accessible ways. If you appreciate what you see here, follow us on Twitter, Instagram, or Facebook @fractracker, and donate if you can, at &lt;a href=\"http://www.fractracker.org/donate\" rel=\"noreferrer nofollow\"&gt;www.fractracker.org/donate&lt;/a&gt;!</th>\n",
       "      <td>1</td>\n",
       "    </tr>\n",
       "    <tr>\n",
       "      <th>Photo citation: Brook Lenker, FracTracker Alliance, 2013.\\n\\nEach photo label provides this information, explained below: \\n&lt;i&gt;Photographer_topic-sitespecific-siteowner-county-state_partneraffiliation_date(version)&lt;/i&gt;\\n\\nPhoto labels provide information about what the image shows and where it was made. The label may describe the type of infrastructure pictured, the environment the photo captures, or the type of operations pictured. For many images, labels also provide site-specific information, including operators and facility names, if it is known by the photographer. \\n\\nAll photo labels include location information, at the state and county levels, and at township/village levels if it is helpful. Please make use of the geolocation data we provide - especially helpful if you want to see other imagery made nearby! \\n\\nWe encourage you to reach out to us about any imagery you wish to make use of, so that we can assist you in finding the best snapshots for your purposes, and so we can further explain these specific details to help you understand the imagery and fully describe it for your own purposes.\\n\\nPlease reach out to us at &lt;b&gt;info@fractracker.org&lt;/b&gt; if you need more information about any of our images.\\n\\nFracTracker encourages you to use and share our imagery. Our resources can be used free of charge for noncommercial purposes, provided that the photo is cited in our format (found on each photo’s page). \\n\\nIf you wish to use our photos and/or videos for commercial purposes — including distributing them in publications for profit — please follow the steps on our &lt;a href=\"https://www.flickr.com/people/fractracker/\"&gt;‘About’ page&lt;/a&gt;.\\n\\nAs a nonprofit, we work hard to gather and share our insights in publicly accessible ways. If you appreciate what you see here, follow us on Twitter, Instagram, or Facebook @fractracker, and donate if you can, at &lt;a href=\"http://www.fractracker.org/donate\" rel=\"noreferrer nofollow\"&gt;www.fractracker.org/donate&lt;/a&gt;!</th>\n",
       "      <td>1</td>\n",
       "    </tr>\n",
       "    <tr>\n",
       "      <th>Photo citation: Brook Lenker, FracTracker Alliance, 2013.\\n\\nEach photo label provides this information, explained below: \\n&lt;i&gt;Photographer_topic-sitespecific-siteowner-county-state_partneraffiliation_date(version)&lt;/i&gt;\\n\\nPhoto labels provide information about what the image shows and where it was made. The label may describe the type of infrastructure pictured, the environment the photo captures, or the type of operations pictured. For many images, labels also provide site-specific information, including operators and facility names, if it is known by the photographer. \\n\\nAll photo labels include location information, at the state and county levels, and at township/village levels if it is helpful. Please make use of the geolocation data we provide - especially helpful if you want to see other imagery made nearby! \\n\\nWe encourage you to reach out to us about any imagery you wish to make use of, so that we can assist you in finding the best snapshots for your purposes, and so we can further explain these specific details to help you understand the imagery and fully describe it for your own purposes.\\n\\nPlease reach out to us at &lt;b&gt;info@fractracker.org&lt;/b&gt; if you need more information about any of our images.\\n\\nFracTracker encourages you to use and share our imagery. Our resources can be used free of charge for noncommercial purposes, provided that the photo is cited in our format (found on each photo’s page). \\n\\nIf you wish to use our photos and/or videos for commercial purposes — including distributing them in publications for profit — please follow the steps on our &lt;a href=\"https://www.flickr.com/people/fractracker/\"&gt;‘About’ page&lt;/a&gt;.\\n\\nAs a nonprofit, we work hard to gather and share our insights in publicly accessible ways. If you appreciate what you see here, follow us on Twitter, Instagram, or Facebook @fractracker, and donate if you can, at &lt;a href=\"http://www.fractracker.org/donate\" rel=\"noreferrer nofollow\"&gt;www.fractracker.org/donate&lt;/a&gt;!</th>\n",
       "      <td>1</td>\n",
       "    </tr>\n",
       "    <tr>\n",
       "      <th>Photo citation: Mary Whipple, 2017. Photo courtesy of FracTracker Alliance.\\n\\nEach photo label provides this information, explained below: \\n&lt;i&gt;Photographer_topic-sitespecific-siteowner-county-state_partneraffiliation_date(version)&lt;/i&gt;\\n\\nPhoto labels provide information about what the image shows and where it was made. The label may describe the type of infrastructure pictured, the environment the photo captures, or the type of operations pictured. For many images, labels also provide site-specific information, including operators and facility names, if it is known by the photographer. \\n\\nAll photo labels include location information, at the state and county levels, and at township/village levels if it is helpful. Please make use of the geolocation data we provide - especially helpful if you want to see other imagery made nearby! \\n\\nWe encourage you to reach out to us about any imagery you wish to make use of, so that we can assist you in finding the best snapshots for your purposes, and so we can further explain these specific details to help you understand the imagery and fully describe it for your own purposes.\\n\\nPlease reach out to us at &lt;b&gt;info@fractracker.org&lt;/b&gt; if you need more information about any of our images.\\n\\nFracTracker encourages you to use and share our imagery. Our resources can be used free of charge for noncommercial purposes, provided that the photo is cited in our format (found on each photo’s page). \\n\\nIf you wish to use our photos and/or videos for commercial purposes — including distributing them in publications for profit — please follow the steps on our &lt;a href=\"https://www.flickr.com/people/fractracker/\"&gt;‘About’ page&lt;/a&gt;.\\n\\nAs a nonprofit, we work hard to gather and share our insights in publicly accessible ways. If you appreciate what you see here, follow us on Twitter, Instagram, or Facebook @fractracker, and donate if you can, at &lt;a href=\"http://www.fractracker.org/donate\" rel=\"noreferrer nofollow\"&gt;www.fractracker.org/donate&lt;/a&gt;!</th>\n",
       "      <td>1</td>\n",
       "    </tr>\n",
       "    <tr>\n",
       "      <th>Photo citation: Ted Auch, FracTracker Alliance, 2019. Aerial support provided by LightHawk.\\n\\nEach photo label provides this information, explained below:\\n&lt;i&gt;Photographer_topic-sitespecific-siteowner-county-state_partneraffiliation_date(version)&lt;/i&gt;\\n\\nPhoto labels provide information about what the image shows and where it was made. The label may describe the type of infrastructure pictured, the environment the photo captures, or the type of operations pictured. For many images, labels also provide site-specific information, including operators and facility names, if it is known by the photographer. \\n\\nAll photo labels include location information, at the state and county levels, and at township/village levels if it is helpful. Please make use of the geolocation data we provide - especially helpful if you want to see other imagery made nearby! \\n\\nWe encourage you to reach out to us about any imagery you wish to make use of, so that we can assist you in finding the best snapshots for your purposes, and so we can further explain these specific details to help you understand the imagery and fully describe it for your own purposes.\\n\\nPlease reach out to us at &lt;b&gt;info@fractracker.org&lt;/b&gt; if you need more information about any of our images.\\n\\nFracTracker encourages you to use and share our imagery. Our resources can be used free of charge for noncommercial purposes, provided that the photo is cited in our format (found on each photo’s page). \\n\\nIf you wish to use our photos and/or videos for commercial purposes — including distributing them in publications for profit — please follow the steps on our &lt;a href=\"https://www.flickr.com/people/fractracker/\"&gt;‘About’ page&lt;/a&gt;.\\n\\nAs a nonprofit, we work hard to gather and share our insights in publicly accessible ways. If you appreciate what you see here, follow us on Twitter, Instagram, or Facebook @fractracker, and donate if you can, at &lt;a href=\"http://www.fractracker.org/donate\" rel=\"noreferrer nofollow\"&gt;www.fractracker.org/donate&lt;/a&gt;!</th>\n",
       "      <td>1</td>\n",
       "    </tr>\n",
       "    <tr>\n",
       "      <th>Bill Hughes, 2016. Photo courtesy of FracTracker Alliance.\\n\\nEach photo label provides this information, explained below: \\n&lt;i&gt;Photographer_topic-sitespecific-siteowner-county-state_partneraffiliation_date(version)&lt;/i&gt;\\n\\nPhoto labels provide information about what the image shows and where it was made. The label may describe the type of infrastructure pictured, the environment the photo captures, or the type of operations pictured. For many images, labels also provide site-specific information, including operators and facility names, if it is known by the photographer. \\n\\nAll photo labels include location information, at the state and county levels, and at township/village levels if it is helpful. Please make use of the geolocation data we provide - especially helpful if you want to see other imagery made nearby! \\n\\nWe encourage you to reach out to us about any imagery you wish to make use of, so that we can assist you in finding the best snapshots for your purposes, and so we can further explain these specific details to help you understand the imagery and fully describe it for your own purposes.\\n\\nPlease reach out to us at &lt;b&gt;info@fractracker.org&lt;/b&gt; if you need more information about any of our images.\\n\\nFracTracker encourages you to use and share our imagery. Our resources can be used free of charge for noncommercial purposes, provided that the photo is cited in our format (found on each photo’s page). \\n\\nIf you wish to use our photos and/or videos for commercial purposes — including distributing them in publications for profit — please follow the steps on our &lt;a href=\"https://www.flickr.com/people/fractracker/\"&gt;‘About’ page&lt;/a&gt;.\\n\\nAs a nonprofit, we work hard to gather and share our insights in publicly accessible ways. If you appreciate what you see here, follow us on Twitter, Instagram, or Facebook @fractracker, and donate if you can, at &lt;a href=\"http://www.fractracker.org/donate\" rel=\"noreferrer nofollow\"&gt;www.fractracker.org/donate&lt;/a&gt;!</th>\n",
       "      <td>1</td>\n",
       "    </tr>\n",
       "    <tr>\n",
       "      <th>Photo citation: Brook Lenker, FracTracker Alliance, 2021.\\n\\nEach photo label provides this information, explained below: \\n&lt;i&gt;Photographer_topic-sitespecific-siteowner-county-state_partneraffiliation_date(version)&lt;/i&gt;\\n\\nPhoto labels provide information about what the image shows and where it was made. The label may describe the type of infrastructure pictured, the environment the photo captures, or the type of operations pictured. For many images, labels also provide site-specific information, including operators and facility names, if it is known by the photographer. \\n\\nAll photo labels include location information, at the state and county levels, and at township/village levels if it is helpful. Please make use of the geolocation data we provide - especially helpful if you want to see other imagery made nearby! \\n\\nWe encourage you to reach out to us about any imagery you wish to make use of, so that we can assist you in finding the best snapshots for your purposes, and so we can further explain these specific details to help you understand the imagery and fully describe it for your own purposes.\\n\\nPlease reach out to us at &lt;b&gt;info@fractracker.org&lt;/b&gt; if you need more information about any of our images.\\n\\nFracTracker encourages you to use and share our imagery. Our resources can be used free of charge for noncommercial purposes, provided that the photo is cited in our format (found on each photo’s page). \\n\\nIf you wish to use our photos and/or videos for commercial purposes — including distributing them in publications for profit — please follow the steps on our &lt;a href=\"https://www.flickr.com/people/fractracker/\"&gt;‘About’ page&lt;/a&gt;.\\n\\nAs a nonprofit, we work hard to gather and share our insights in publicly accessible ways. If you appreciate what you see here, follow us on Twitter, Instagram, or Facebook @fractracker, and donate if you can, at &lt;a href=\"http://www.fractracker.org/donate\" rel=\"noreferrer nofollow\"&gt;www.fractracker.org/donate&lt;/a&gt;!</th>\n",
       "      <td>1</td>\n",
       "    </tr>\n",
       "  </tbody>\n",
       "</table>\n",
       "</div>"
      ],
      "text/plain": [
       "                                                    count\n",
       "Description                                              \n",
       "Photo citation: Ted Auch, FracTracker Alliance,...    452\n",
       "Photo citation: Ted Auch, FracTracker Alliance,...    394\n",
       "Photo citation: Ted Auch, FracTracker Alliance,...    295\n",
       "Photo citation: Ted Auch, FracTracker Alliance,...    236\n",
       "Photo citation: Ted Auch, 2022. Photo courtesy ...    210\n",
       "Photo citation: Ted Auch, FracTracker Alliance,...    202\n",
       "Photo citation: Ted Auch, FracTracker Alliance,...    184\n",
       "Photo citation: Ted Auch, FracTracker Alliance,...    152\n",
       "Photo citation: Ted Auch, FracTracker Alliance,...    120\n",
       "Photo citation: Ted Auch, FracTracker Alliance,...    119\n",
       "Photo citation: Ted Auch, FracTracker Alliance,...     98\n",
       "Photo citation: Ted Auch, FracTracker Alliance,...     57\n",
       "Photo citation: Ted Auch, FracTracker Alliance,...     30\n",
       "Photo citation: Ted Auch, FracTracker Alliance,...     26\n",
       "Photo citation: Shannon Smith, FracTracker Alli...     24\n",
       "Photo citation: Ted Auch, FracTracker Alliance,...     16\n",
       "Photo citation: Matt Kelso, FracTracker Allianc...     14\n",
       "Photo citation: Rebecca Johnson, FracTracker Al...     14\n",
       "Photo citation: Erica Jackson, FracTracker Alli...     13\n",
       "Photo citation: Karen Edelstein, FracTracker Al...      7\n",
       "Photo citation: Brook Lenker, FracTracker Allia...      5\n",
       "Dick Martin, 2021. Photo courtesy of FracTracke...      4\n",
       "This site includes a very active flare stack an...      4\n",
       "                                                        4\n",
       "Photo citation: Sam Rubright, FracTracker Allia...      3\n",
       "Photo citation: Ted Auch, FracTracker Alliance,...      3\n",
       "Photo citation: Ted Auch, FracTracker Alliance,...      3\n",
       "                               Photo citation: ...      2\n",
       "Photo citation: Ted Auch, FracTracker Alliance,...      2\n",
       "Hank Boschen, 2014. Photo courtesy of FracTrack...      2\n",
       "Photo citation: Ted Auch, FracTracker Alliance,...      2\n",
       "Bill Hughes, 2015. Photo courtesy of FracTracke...      2\n",
       "This drone photo was taken from the Young horse...      2\n",
       "Photo citation: Brook Lenker, FracTracker Allia...      2\n",
       "Photo citation: Ted Auch, FracTracker Alliance,...      2\n",
       "Photo citation: Brook Lenker, FracTracker Allia...      2\n",
       "Linda Daul, 2014. Photo courtesy of FracTracker...      1\n",
       "Ric Zarwell, 2014. Photo courtesy of FracTracke...      1\n",
       "Photo citation: Ted Auch, FracTracker Alliance,...      1\n",
       "Photo citation: Brook Lenker, FracTracker Allia...      1\n",
       "Photo citation: Brook Lenker, FracTracker Allia...      1\n",
       "Photo citation: Brook Lenker, FracTracker Allia...      1\n",
       "Photo citation: Brook Lenker, FracTracker Allia...      1\n",
       "Photo citation: Mary Whipple, 2017. Photo court...      1\n",
       "Photo citation: Ted Auch, FracTracker Alliance,...      1\n",
       "Bill Hughes, 2016. Photo courtesy of FracTracke...      1\n",
       "Photo citation: Brook Lenker, FracTracker Allia...      1"
      ]
     },
     "execution_count": 16,
     "metadata": {},
     "output_type": "execute_result"
    }
   ],
   "source": [
    "d"
   ]
  },
  {
   "cell_type": "code",
   "execution_count": 18,
   "id": "1206c9e2-f93c-4d1f-926a-4ce61e436879",
   "metadata": {},
   "outputs": [],
   "source": [
    "di = d.reset_index()"
   ]
  },
  {
   "cell_type": "code",
   "execution_count": 19,
   "id": "44b6a810-f333-46b1-87b6-be5c74a5cd69",
   "metadata": {
    "scrolled": true
   },
   "outputs": [
    {
     "data": {
      "text/html": [
       "<div>\n",
       "<style scoped>\n",
       "    .dataframe tbody tr th:only-of-type {\n",
       "        vertical-align: middle;\n",
       "    }\n",
       "\n",
       "    .dataframe tbody tr th {\n",
       "        vertical-align: top;\n",
       "    }\n",
       "\n",
       "    .dataframe thead th {\n",
       "        text-align: right;\n",
       "    }\n",
       "</style>\n",
       "<table border=\"1\" class=\"dataframe\">\n",
       "  <thead>\n",
       "    <tr style=\"text-align: right;\">\n",
       "      <th></th>\n",
       "      <th>Description</th>\n",
       "      <th>count</th>\n",
       "    </tr>\n",
       "  </thead>\n",
       "  <tbody>\n",
       "    <tr>\n",
       "      <th>0</th>\n",
       "      <td>Photo citation: Ted Auch, FracTracker Alliance...</td>\n",
       "      <td>452</td>\n",
       "    </tr>\n",
       "    <tr>\n",
       "      <th>1</th>\n",
       "      <td>Photo citation: Ted Auch, FracTracker Alliance...</td>\n",
       "      <td>394</td>\n",
       "    </tr>\n",
       "    <tr>\n",
       "      <th>2</th>\n",
       "      <td>Photo citation: Ted Auch, FracTracker Alliance...</td>\n",
       "      <td>295</td>\n",
       "    </tr>\n",
       "    <tr>\n",
       "      <th>3</th>\n",
       "      <td>Photo citation: Ted Auch, FracTracker Alliance...</td>\n",
       "      <td>236</td>\n",
       "    </tr>\n",
       "    <tr>\n",
       "      <th>4</th>\n",
       "      <td>Photo citation: Ted Auch, 2022. Photo courtesy...</td>\n",
       "      <td>210</td>\n",
       "    </tr>\n",
       "    <tr>\n",
       "      <th>5</th>\n",
       "      <td>Photo citation: Ted Auch, FracTracker Alliance...</td>\n",
       "      <td>202</td>\n",
       "    </tr>\n",
       "    <tr>\n",
       "      <th>6</th>\n",
       "      <td>Photo citation: Ted Auch, FracTracker Alliance...</td>\n",
       "      <td>184</td>\n",
       "    </tr>\n",
       "    <tr>\n",
       "      <th>7</th>\n",
       "      <td>Photo citation: Ted Auch, FracTracker Alliance...</td>\n",
       "      <td>152</td>\n",
       "    </tr>\n",
       "    <tr>\n",
       "      <th>8</th>\n",
       "      <td>Photo citation: Ted Auch, FracTracker Alliance...</td>\n",
       "      <td>120</td>\n",
       "    </tr>\n",
       "    <tr>\n",
       "      <th>9</th>\n",
       "      <td>Photo citation: Ted Auch, FracTracker Alliance...</td>\n",
       "      <td>119</td>\n",
       "    </tr>\n",
       "    <tr>\n",
       "      <th>10</th>\n",
       "      <td>Photo citation: Ted Auch, FracTracker Alliance...</td>\n",
       "      <td>98</td>\n",
       "    </tr>\n",
       "    <tr>\n",
       "      <th>11</th>\n",
       "      <td>Photo citation: Ted Auch, FracTracker Alliance...</td>\n",
       "      <td>57</td>\n",
       "    </tr>\n",
       "    <tr>\n",
       "      <th>12</th>\n",
       "      <td>Photo citation: Ted Auch, FracTracker Alliance...</td>\n",
       "      <td>30</td>\n",
       "    </tr>\n",
       "    <tr>\n",
       "      <th>13</th>\n",
       "      <td>Photo citation: Ted Auch, FracTracker Alliance...</td>\n",
       "      <td>26</td>\n",
       "    </tr>\n",
       "    <tr>\n",
       "      <th>14</th>\n",
       "      <td>Photo citation: Shannon Smith, FracTracker All...</td>\n",
       "      <td>24</td>\n",
       "    </tr>\n",
       "    <tr>\n",
       "      <th>15</th>\n",
       "      <td>Photo citation: Ted Auch, FracTracker Alliance...</td>\n",
       "      <td>16</td>\n",
       "    </tr>\n",
       "    <tr>\n",
       "      <th>16</th>\n",
       "      <td>Photo citation: Matt Kelso, FracTracker Allian...</td>\n",
       "      <td>14</td>\n",
       "    </tr>\n",
       "    <tr>\n",
       "      <th>17</th>\n",
       "      <td>Photo citation: Rebecca Johnson, FracTracker A...</td>\n",
       "      <td>14</td>\n",
       "    </tr>\n",
       "    <tr>\n",
       "      <th>18</th>\n",
       "      <td>Photo citation: Erica Jackson, FracTracker All...</td>\n",
       "      <td>13</td>\n",
       "    </tr>\n",
       "    <tr>\n",
       "      <th>19</th>\n",
       "      <td>Photo citation: Karen Edelstein, FracTracker A...</td>\n",
       "      <td>7</td>\n",
       "    </tr>\n",
       "    <tr>\n",
       "      <th>20</th>\n",
       "      <td>Photo citation: Brook Lenker, FracTracker Alli...</td>\n",
       "      <td>5</td>\n",
       "    </tr>\n",
       "    <tr>\n",
       "      <th>21</th>\n",
       "      <td>Dick Martin, 2021. Photo courtesy of FracTrack...</td>\n",
       "      <td>4</td>\n",
       "    </tr>\n",
       "    <tr>\n",
       "      <th>22</th>\n",
       "      <td>This site includes a very active flare stack a...</td>\n",
       "      <td>4</td>\n",
       "    </tr>\n",
       "    <tr>\n",
       "      <th>23</th>\n",
       "      <td></td>\n",
       "      <td>4</td>\n",
       "    </tr>\n",
       "    <tr>\n",
       "      <th>24</th>\n",
       "      <td>Photo citation: Sam Rubright, FracTracker Alli...</td>\n",
       "      <td>3</td>\n",
       "    </tr>\n",
       "    <tr>\n",
       "      <th>25</th>\n",
       "      <td>Photo citation: Ted Auch, FracTracker Alliance...</td>\n",
       "      <td>3</td>\n",
       "    </tr>\n",
       "    <tr>\n",
       "      <th>26</th>\n",
       "      <td>Photo citation: Ted Auch, FracTracker Alliance...</td>\n",
       "      <td>3</td>\n",
       "    </tr>\n",
       "    <tr>\n",
       "      <th>27</th>\n",
       "      <td>Photo citation:...</td>\n",
       "      <td>2</td>\n",
       "    </tr>\n",
       "    <tr>\n",
       "      <th>28</th>\n",
       "      <td>Photo citation: Ted Auch, FracTracker Alliance...</td>\n",
       "      <td>2</td>\n",
       "    </tr>\n",
       "    <tr>\n",
       "      <th>29</th>\n",
       "      <td>Hank Boschen, 2014. Photo courtesy of FracTrac...</td>\n",
       "      <td>2</td>\n",
       "    </tr>\n",
       "    <tr>\n",
       "      <th>30</th>\n",
       "      <td>Photo citation: Ted Auch, FracTracker Alliance...</td>\n",
       "      <td>2</td>\n",
       "    </tr>\n",
       "    <tr>\n",
       "      <th>31</th>\n",
       "      <td>Bill Hughes, 2015. Photo courtesy of FracTrack...</td>\n",
       "      <td>2</td>\n",
       "    </tr>\n",
       "    <tr>\n",
       "      <th>32</th>\n",
       "      <td>This drone photo was taken from the Young hors...</td>\n",
       "      <td>2</td>\n",
       "    </tr>\n",
       "    <tr>\n",
       "      <th>33</th>\n",
       "      <td>Photo citation: Brook Lenker, FracTracker Alli...</td>\n",
       "      <td>2</td>\n",
       "    </tr>\n",
       "    <tr>\n",
       "      <th>34</th>\n",
       "      <td>Photo citation: Ted Auch, FracTracker Alliance...</td>\n",
       "      <td>2</td>\n",
       "    </tr>\n",
       "    <tr>\n",
       "      <th>35</th>\n",
       "      <td>Photo citation: Brook Lenker, FracTracker Alli...</td>\n",
       "      <td>2</td>\n",
       "    </tr>\n",
       "    <tr>\n",
       "      <th>36</th>\n",
       "      <td>Linda Daul, 2014. Photo courtesy of FracTracke...</td>\n",
       "      <td>1</td>\n",
       "    </tr>\n",
       "    <tr>\n",
       "      <th>37</th>\n",
       "      <td>Ric Zarwell, 2014. Photo courtesy of FracTrack...</td>\n",
       "      <td>1</td>\n",
       "    </tr>\n",
       "    <tr>\n",
       "      <th>38</th>\n",
       "      <td>Photo citation: Ted Auch, FracTracker Alliance...</td>\n",
       "      <td>1</td>\n",
       "    </tr>\n",
       "    <tr>\n",
       "      <th>39</th>\n",
       "      <td>Photo citation: Brook Lenker, FracTracker Alli...</td>\n",
       "      <td>1</td>\n",
       "    </tr>\n",
       "    <tr>\n",
       "      <th>40</th>\n",
       "      <td>Photo citation: Brook Lenker, FracTracker Alli...</td>\n",
       "      <td>1</td>\n",
       "    </tr>\n",
       "    <tr>\n",
       "      <th>41</th>\n",
       "      <td>Photo citation: Brook Lenker, FracTracker Alli...</td>\n",
       "      <td>1</td>\n",
       "    </tr>\n",
       "    <tr>\n",
       "      <th>42</th>\n",
       "      <td>Photo citation: Brook Lenker, FracTracker Alli...</td>\n",
       "      <td>1</td>\n",
       "    </tr>\n",
       "    <tr>\n",
       "      <th>43</th>\n",
       "      <td>Photo citation: Mary Whipple, 2017. Photo cour...</td>\n",
       "      <td>1</td>\n",
       "    </tr>\n",
       "    <tr>\n",
       "      <th>44</th>\n",
       "      <td>Photo citation: Ted Auch, FracTracker Alliance...</td>\n",
       "      <td>1</td>\n",
       "    </tr>\n",
       "    <tr>\n",
       "      <th>45</th>\n",
       "      <td>Bill Hughes, 2016. Photo courtesy of FracTrack...</td>\n",
       "      <td>1</td>\n",
       "    </tr>\n",
       "    <tr>\n",
       "      <th>46</th>\n",
       "      <td>Photo citation: Brook Lenker, FracTracker Alli...</td>\n",
       "      <td>1</td>\n",
       "    </tr>\n",
       "  </tbody>\n",
       "</table>\n",
       "</div>"
      ],
      "text/plain": [
       "                                          Description  count\n",
       "0   Photo citation: Ted Auch, FracTracker Alliance...    452\n",
       "1   Photo citation: Ted Auch, FracTracker Alliance...    394\n",
       "2   Photo citation: Ted Auch, FracTracker Alliance...    295\n",
       "3   Photo citation: Ted Auch, FracTracker Alliance...    236\n",
       "4   Photo citation: Ted Auch, 2022. Photo courtesy...    210\n",
       "5   Photo citation: Ted Auch, FracTracker Alliance...    202\n",
       "6   Photo citation: Ted Auch, FracTracker Alliance...    184\n",
       "7   Photo citation: Ted Auch, FracTracker Alliance...    152\n",
       "8   Photo citation: Ted Auch, FracTracker Alliance...    120\n",
       "9   Photo citation: Ted Auch, FracTracker Alliance...    119\n",
       "10  Photo citation: Ted Auch, FracTracker Alliance...     98\n",
       "11  Photo citation: Ted Auch, FracTracker Alliance...     57\n",
       "12  Photo citation: Ted Auch, FracTracker Alliance...     30\n",
       "13  Photo citation: Ted Auch, FracTracker Alliance...     26\n",
       "14  Photo citation: Shannon Smith, FracTracker All...     24\n",
       "15  Photo citation: Ted Auch, FracTracker Alliance...     16\n",
       "16  Photo citation: Matt Kelso, FracTracker Allian...     14\n",
       "17  Photo citation: Rebecca Johnson, FracTracker A...     14\n",
       "18  Photo citation: Erica Jackson, FracTracker All...     13\n",
       "19  Photo citation: Karen Edelstein, FracTracker A...      7\n",
       "20  Photo citation: Brook Lenker, FracTracker Alli...      5\n",
       "21  Dick Martin, 2021. Photo courtesy of FracTrack...      4\n",
       "22  This site includes a very active flare stack a...      4\n",
       "23                                                         4\n",
       "24  Photo citation: Sam Rubright, FracTracker Alli...      3\n",
       "25  Photo citation: Ted Auch, FracTracker Alliance...      3\n",
       "26  Photo citation: Ted Auch, FracTracker Alliance...      3\n",
       "27                                 Photo citation:...      2\n",
       "28  Photo citation: Ted Auch, FracTracker Alliance...      2\n",
       "29  Hank Boschen, 2014. Photo courtesy of FracTrac...      2\n",
       "30  Photo citation: Ted Auch, FracTracker Alliance...      2\n",
       "31  Bill Hughes, 2015. Photo courtesy of FracTrack...      2\n",
       "32  This drone photo was taken from the Young hors...      2\n",
       "33  Photo citation: Brook Lenker, FracTracker Alli...      2\n",
       "34  Photo citation: Ted Auch, FracTracker Alliance...      2\n",
       "35  Photo citation: Brook Lenker, FracTracker Alli...      2\n",
       "36  Linda Daul, 2014. Photo courtesy of FracTracke...      1\n",
       "37  Ric Zarwell, 2014. Photo courtesy of FracTrack...      1\n",
       "38  Photo citation: Ted Auch, FracTracker Alliance...      1\n",
       "39  Photo citation: Brook Lenker, FracTracker Alli...      1\n",
       "40  Photo citation: Brook Lenker, FracTracker Alli...      1\n",
       "41  Photo citation: Brook Lenker, FracTracker Alli...      1\n",
       "42  Photo citation: Brook Lenker, FracTracker Alli...      1\n",
       "43  Photo citation: Mary Whipple, 2017. Photo cour...      1\n",
       "44  Photo citation: Ted Auch, FracTracker Alliance...      1\n",
       "45  Bill Hughes, 2016. Photo courtesy of FracTrack...      1\n",
       "46  Photo citation: Brook Lenker, FracTracker Alli...      1"
      ]
     },
     "execution_count": 19,
     "metadata": {},
     "output_type": "execute_result"
    }
   ],
   "source": [
    "di"
   ]
  },
  {
   "cell_type": "code",
   "execution_count": 20,
   "id": "feda5b3e-c36a-4912-b321-d5a1398b5b8e",
   "metadata": {
    "scrolled": true
   },
   "outputs": [],
   "source": [
    "top1 = di['Description'].iloc[0]\n",
    "top2 = di['Description'].iloc[1]\n",
    "top3 = di['Description'].iloc[2]"
   ]
  },
  {
   "cell_type": "code",
   "execution_count": 21,
   "id": "b9534d73-4b10-426f-a1da-7e41fe4a65a6",
   "metadata": {},
   "outputs": [
    {
     "ename": "NameError",
     "evalue": "name 'difflib' is not defined",
     "output_type": "error",
     "traceback": [
      "\u001b[0;31m---------------------------------------------------------------------------\u001b[0m",
      "\u001b[0;31mNameError\u001b[0m                                 Traceback (most recent call last)",
      "Cell \u001b[0;32mIn[21], line 1\u001b[0m\n\u001b[0;32m----> 1\u001b[0m ddiff \u001b[38;5;241m=\u001b[39m \u001b[43mdifflib\u001b[49m\u001b[38;5;241m.\u001b[39mndiff([top1], [top2])\n",
      "\u001b[0;31mNameError\u001b[0m: name 'difflib' is not defined"
     ]
    }
   ],
   "source": []
  },
  {
   "cell_type": "code",
   "execution_count": 22,
   "id": "f4965c01-0d1b-4c13-9bd3-7c4c99c1812d",
   "metadata": {},
   "outputs": [],
   "source": [
    "import difflib"
   ]
  },
  {
   "cell_type": "code",
   "execution_count": 23,
   "metadata": {},
   "outputs": [],
   "source": [
    "ddiff = difflib.ndiff([top1], [top2])"
   ]
  },
  {
   "cell_type": "code",
   "execution_count": 24,
   "id": "d46f01c5-c19c-409b-b82e-45e6604cb467",
   "metadata": {},
   "outputs": [
    {
     "data": {
      "text/plain": [
       "'- Photo citation: Ted Auch, FracTracker Alliance, 2023.\\n\\nEach photo label provides this information, explained below: \\n<i>Photographer_topic-sitespecific-siteowner-county-state_partneraffiliation_date(version)</i>\\n\\nPhoto labels provide information about what the image shows and where it was made. The label may describe the type of infrastructure pictured, the environment the photo captures, or the type of operations pictured. For many images, labels also provide site-specific information, including operators and facility names, if it is known by the photographer. \\n\\nAll photo labels include location information, at the state and county levels, and at township/village levels if it is helpful. Please make use of the geolocation data we provide - especially helpful if you want to see other imagery made nearby! \\n\\nWe encourage you to reach out to us about any imagery you wish to make use of, so that we can assist you in finding the best snapshots for your purposes, and so we can further explain these specific details to help you understand the imagery and fully describe it for your own purposes.\\n\\nPlease reach out to us at <b>info@fractracker.org</b> if you need more information about any of our images.\\n\\nFracTracker encourages you to use and share our imagery. Our resources can be used free of charge for noncommercial purposes, provided that the photo is cited in our format (found on each photo’s page). \\n\\nIf you wish to use our photos and/or videos for commercial purposes — including distributing them in publications for profit — please follow the steps on our <a href=\"https://www.flickr.com/people/fractracker/\">‘About’ page</a>.\\n\\nAs a nonprofit, we work hard to gather and share our insights in publicly accessible ways. If you appreciate what you see here, follow us on Twitter, Instagram, or Facebook @fractracker, and donate if you can, at <a href=\"http://www.fractracker.org/donate\" rel=\"noreferrer nofollow\">www.fractracker.org/donate</a>!\\n?                                                   ^^\\n\\n+ Photo citation: Ted Auch, FracTracker Alliance, 2019. Aerial support provided by LightHawk.\\n\\nEach photo label provides this information, explained below: \\n<i>Photographer_topic-sitespecific-siteowner-county-state_partneraffiliation_date(version)</i>\\n\\nPhoto labels provide information about what the image shows and where it was made. The label may describe the type of infrastructure pictured, the environment the photo captures, or the type of operations pictured. For many images, labels also provide site-specific information, including operators and facility names, if it is known by the photographer. \\n\\nAll photo labels include location information, at the state and county levels, and at township/village levels if it is helpful. Please make use of the geolocation data we provide - especially helpful if you want to see other imagery made nearby! \\n\\nWe encourage you to reach out to us about any imagery you wish to make use of, so that we can assist you in finding the best snapshots for your purposes, and so we can further explain these specific details to help you understand the imagery and fully describe it for your own purposes.\\n\\nPlease reach out to us at <b>info@fractracker.org</b> if you need more information about any of our images.\\n\\nFracTracker encourages you to use and share our imagery. Our resources can be used free of charge for noncommercial purposes, provided that the photo is cited in our format (found on each photo’s page). \\n\\nIf you wish to use our photos and/or videos for commercial purposes — including distributing them in publications for profit — please follow the steps on our <a href=\"https://www.flickr.com/people/fractracker/\">‘About’ page</a>.\\n\\nAs a nonprofit, we work hard to gather and share our insights in publicly accessible ways. If you appreciate what you see here, follow us on Twitter, Instagram, or Facebook @fractracker, and donate if you can, at <a href=\"http://www.fractracker.org/donate\" rel=\"noreferrer nofollow\">www.fractracker.org/donate</a>!\\n?                                                   ^^^^^^^^^^^^^^^^^^^^^^^^^^^^^^^^^^^^^^^^\\n'"
      ]
     },
     "execution_count": 24,
     "metadata": {},
     "output_type": "execute_result"
    }
   ],
   "source": [
    "'\\n'.join(ddiff)"
   ]
  },
  {
   "cell_type": "code",
   "execution_count": 25,
   "id": "9c6deb60-f8c8-4fb6-afde-61b213928526",
   "metadata": {},
   "outputs": [],
   "source": [
    "from difflib import HtmlDiff\n",
    "\n",
    "d = HtmlDiff()\n",
    "html_diff = d.make_file(top1.splitlines(), top3.splitlines()) # a,b were defined earlier\n",
    "with open(\"diff.html\", \"w\", encoding=\"utf-8\") as f:\n",
    "    f.write(html_diff)"
   ]
  },
  {
   "cell_type": "code",
   "execution_count": 27,
   "id": "dccfc457-bd7b-4113-88c7-1cae8d410238",
   "metadata": {},
   "outputs": [
    {
     "data": {
      "text/plain": [
       "Description\n",
       "\\nEach photo label provides this information, explained below: \\n<i>Photographer_topic-sitespecific-siteowner-county-state_partneraffiliation_date(version)</i>\\n\\nPhoto labels provide information about what the image shows and where it was made. The label may describe the type of infrastructure pictured, the environment the photo captures, or the type of operations pictured. For many images, labels also provide site-specific information, including operators and facility names, if it is known by the photographer. \\n\\nAll photo labels include location information, at the state and county levels, and at township/village levels if it is helpful. Please make use of the geolocation data we provide - especially helpful if you want to see other imagery made nearby! \\n\\nWe encourage you to reach out to us about any imagery you wish to make use of, so that we can assist you in finding the best snapshots for your purposes, and so we can further explain these specific details to help you understand the imagery and fully describe it for your own purposes.\\n\\nPlease reach out to us at <b>info@fractracker.org</b> if you need more information about any of our images.\\n\\nFracTracker encourages you to use and share our imagery. Our resources can be used free of charge for noncommercial purposes, provided that the photo is cited in our format (found on each photo’s page). \\n\\nIf you wish to use our photos and/or videos for commercial purposes — including distributing them in publications for profit — please follow the steps on our <a href=\"https://www.flickr.com/people/fractracker/\">‘About’ page</a>.\\n\\nAs a nonprofit, we work hard to gather and share our insights in publicly accessible ways. If you appreciate what you see here, follow us on Twitter, Instagram, or Facebook @fractracker, and donate if you can, at <a href=\"http://www.fractracker.org/donate\" rel=\"noreferrer nofollow\">www.fractracker.org/donate</a>!                                                                34\n",
       "\\nEach photo label provides this information, explained below:\\n<i>Photographer_topic-sitespecific-siteowner-county-state_partneraffiliation_date(version)</i>\\n\\nPhoto labels provide information about what the image shows and where it was made. The label may describe the type of infrastructure pictured, the environment the photo captures, or the type of operations pictured. For many images, labels also provide site-specific information, including operators and facility names, if it is known by the photographer. \\n\\nAll photo labels include location information, at the state and county levels, and at township/village levels if it is helpful. Please make use of the geolocation data we provide - especially helpful if you want to see other imagery made nearby! \\n\\nWe encourage you to reach out to us about any imagery you wish to make use of, so that we can assist you in finding the best snapshots for your purposes, and so we can further explain these specific details to help you understand the imagery and fully describe it for your own purposes.\\n\\nPlease reach out to us at <b>info@fractracker.org</b> if you need more information about any of our images.\\n\\nFracTracker encourages you to use and share our imagery. Our resources can be used free of charge for noncommercial purposes, provided that the photo is cited in our format (found on each photo’s page). \\n\\nIf you wish to use our photos and/or videos for commercial purposes — including distributing them in publications for profit — please follow the steps on our <a href=\"https://www.flickr.com/people/fractracker/\">‘About’ page</a>.\\n\\nAs a nonprofit, we work hard to gather and share our insights in publicly accessible ways. If you appreciate what you see here, follow us on Twitter, Instagram, or Facebook @fractracker, and donate if you can, at <a href=\"http://www.fractracker.org/donate\" rel=\"noreferrer nofollow\">www.fractracker.org/donate</a>!                                                                  5\n",
       "\\nPhoto citation: Ted Auch, FracTracker Alliance, 2021.\\n\\nEach photo label provides this information, explained below: \\n<i>Photographer_topic-sitespecific-siteowner-county-state_partneraffiliation_date(version)</i>\\n\\nPhoto labels provide information about what the image shows and where it was made. The label may describe the type of infrastructure pictured, the environment the photo captures, or the type of operations pictured. For many images, labels also provide site-specific information, including operators and facility names, if it is known by the photographer. \\n\\nAll photo labels include location information, at the state and county levels, and at township/village levels if it is helpful. Please make use of the geolocation data we provide - especially helpful if you want to see other imagery made nearby! \\n\\nWe encourage you to reach out to us about any imagery you wish to make use of, so that we can assist you in finding the best snapshots for your purposes, and so we can further explain these specific details to help you understand the imagery and fully describe it for your own purposes.\\n\\nPlease reach out to us at <b>info@fractracker.org</b> if you need more information about any of our images.\\n\\nFracTracker encourages you to use and share our imagery. Our resources can be used free of charge for noncommercial purposes, provided that the photo is cited in our format (found on each photo’s page). \\n\\nIf you wish to use our photos and/or videos for commercial purposes — including distributing them in publications for profit — please follow the steps on our <a href=\"https://www.flickr.com/people/fractracker/\">‘About’ page</a>.\\n\\nAs a nonprofit, we work hard to gather and share our insights in publicly accessible ways. If you appreciate what you see here, follow us on Twitter, Instagram, or Facebook @fractracker, and donate if you can, at <a href=\"http://www.fractracker.org/donate\" rel=\"noreferrer nofollow\">www.fractracker.org/donate</a>!        2\n",
       "                                                                                                                                                                                                                                                                                                                                                                                                                                                                                                                                                                                                                                                                                                                                                                                                                                                                                                                                                                                                                                                                                                                                                                                                                                                                                                                                                                                                                                                                                                                                                                                                                                                                                                                                                                                                                                                                                                                                                                                                                                                                       1\n",
       "\\nEach photo label provides this information, explained below:\\n<i>Photographer_topic-sitespecific-siteowner-county-state_partneraffiliation_date(version)</i>\\n\\nPhoto labels provide information about what the image shows and where it was made. The label may describe the type of infrastructure pictured, the environment the photo captures, or the type of operations pictured. For many images, labels also provide site-specific information, including operators and facility names, if it is known by the photographer. \\n\\nAll photo labels include location information, at the state and county levels, and at township/village levels if it is helpful. Please make use of the geolocation data we provide - especially helpful if you want to see other imagery made nearby! \\n\\nWe encourage you to reach out to us about any imagery you wish to make use of, so that we can assist you in finding the best snapshots for your purposes, and so we can further explain these specific details to help you understand the imagery and fully describe it for your own purposes.\\n\\nPlease reach out to us at <b>info@fractracker.org</b> if you need more information about any of our images.\\n\\nFracTracker encourages you to use and share our imagery. Our resources can be used free of charge for noncommercial purposes, provided that the photo is cited in our format (found on each photo’s page). \\n\\nIf you wish to use our photos and/or videos for commercial purposes — including distributing them in publications for profit — please follow the steps on our <a href=\"https://www.flickr.com/people/fractracker/\">‘About’ page</a>.\\n\\nAs a nonprofit, we work hard to gather and share our insights in publicly accessible ways. If you appreciate what you see here, follow us on Twitter, Instagram, or Facebook @fractracker, and donate if you can, at <a href=\"http://www.fractracker.org/donate\" rel=\"noreferrer nofollow\">www.fractracker.org/donate</a>!                                                                  1\n",
       "\\nEach photo label provides this information, explained below: \\n<i>Photographer_topic-sitespecific-siteowner-county-state_partneraffiliation_date(version)</i>\\n\\nPhoto labels provide information about what the image shows and where it was made. The label may describe the type of infrastructure pictured, the environment the photo captures, or the type of operations pictured. For many images, labels also provide site-specific information, including operators and facility names, if it is known by the photographer. \\n\\nAll photo labels include location information, at the state and county levels, and at township/village levels if it is helpful. Please make use of the geolocation data we provide - especially helpful if you want to see other imagery made nearby! \\n\\nWe encourage you to reach out to us about any imagery you wish to make use of, so that we can assist you in finding the best snapshots for your purposes, and so we can further explain these specific details to help you understand the imagery and fully describe it for your own purposes.\\n\\nPlease reach out to us at <b>info@fractracker.org</b> if you need more information about any of our images.\\n\\nFracTracker encourages you to use and share our imagery. Our resources can be used free of charge for noncommercial purposes, provided that the photo is cited in our format (found on each photo’s page). \\n\\nIf you wish to use our photos and/or videos for commercial purposes — including distributing them in publications for profit — please follow the steps on our <a href=\"https://www.flickr.com/people/fractracker/\">‘About’ page</a>.\\n\\nAs a nonprofit, we work hard to gather and share our insights in publicly accessible ways. If you appreciate what you see here, follow us on Twitter, Instagram, or Facebook @fractracker, and donate if you can, at <a href=\"http://www.fractracker.org/donate\" rel=\"noreferrer nofollow\">www.fractracker.org/donate</a>!                                                                 1\n",
       "\\nEach photo label provides this information, explained below: \\n<i>Photographer_topic-sitespecific-siteowner-county-state_partneraffiliation_date(version)</i>\\n\\nPhoto labels provide information about what the image shows and where it was made. The label may describe the type of infrastructure pictured, the environment the photo captures, or the type of operations pictured. For many images, labels also provide site-specific information, including operators and facility names, if it is known by the photographer. \\n\\nAll photo labels include location information, at the state and county levels, and at township/village levels if it is helpful. Please make use of the geolocation data we provide - especially helpful if you want to see other imagery made nearby! \\n\\nWe encourage you to reach out to us about any imagery you wish to make use of, so that we can assist you in finding the best snapshots for your purposes, and so we can further explain these specific details to help you understand the imagery and fully describe it for your own purposes.\\n\\nPlease reach out to us at <b>info@fractracker.org</b> if you need more information about any of our images.\\n\\nFracTracker encourages you to use and share our imagery. Our resources can be used free of charge for noncommercial purposes, provided that the photo is cited in our format (found on each photo’s page). \\n\\nIf you wish to use our photos and/or videos for commercial purposes — including distributing them in publications for profit — please follow the steps on our <a href=\"https://www.flickr.com/people/fractracker/\">‘About’ page</a>.\\n\\nAs a nonprofit, we work hard to gather and share our insights in publicly accessible ways. If you appreciate what you see here, follow us on Twitter, Instagram, or Facebook @fractracker, and donate if you can, at <a href=\"http://www.fractracker.org/donate\" rel=\"noreferrer nofollow\">www.fractracker.org/donate</a>!                                                                 1\n",
       "\\nEach photo label provides this information, explained below: \\n<i>Photographer_topic-sitespecific-siteowner-county-state_partneraffiliation_date(version)</i>\\n\\nPhoto labels provide information about what the image shows and where it was made. The label may describe the type of infrastructure pictured, the environment the photo captures, or the type of operations pictured. For many images, labels also provide site-specific information, including operators and facility names, if it is known by the photographer. \\n\\nAll photo labels include location information, at the state and county levels, and at township/village levels if it is helpful. Please make use of the geolocation data we provide - especially helpful if you want to see other imagery made nearby! \\n\\nWe encourage you to reach out to us about any imagery you wish to make use of, so that we can assist you in finding the best snapshots for your purposes, and so we can further explain these specific details to help you understand the imagery and fully describe it for your own purposes.\\n\\nPlease reach out to us at <b>info@fractracker.org</b> if you need more information about any of our images.\\n\\nFracTracker encourages you to use and share our imagery. Our resources can be used free of charge for noncommercial purposes, provided that the photo is cited in our format (found on each photo’s page). \\n\\nIf you wish to use our photos and/or videos for commercial purposes — including distributing them in publications for profit — please follow the steps on our <a href=\"https://www.flickr.com/people/fractracker/\">‘About’ page</a>.\\n\\nAs a nonprofit, we work hard to gather and share our insights in publicly accessible ways. If you appreciate what you see here, follow us on Twitter, Instagram, or Facebook @fractracker, and donate if you can, at <a href=\"http://www.fractracker.org/donate\" rel=\"noreferrer nofollow\">www.fractracker.org/donate</a>!                                                                 1\n",
       "\\nEach photo label provides this information, explained below: \\n<i>Photographer_topic-sitespecific-siteowner-county-state_partneraffiliation_date(version)</i>\\n\\nPhoto labels provide information about what the image shows and where it was made. The label may describe the type of infrastructure pictured, the environment the photo captures, or the type of operations pictured. For many images, labels also provide site-specific information, including operators and facility names, if it is known by the photographer. \\n\\nAll photo labels include location information, at the state and county levels, and at township/village levels if it is helpful. Please make use of the geolocation data we provide - especially helpful if you want to see other imagery made nearby! \\n\\nWe encourage you to reach out to us about any imagery you wish to make use of, so that we can assist you in finding the best snapshots for your purposes, and so we can further explain these specific details to help you understand the imagery and fully describe it for your own purposes.\\n\\nPlease reach out to us at <b>info@fractracker.org</b> if you need more information about any of our images.\\n\\nFracTracker encourages you to use and share our imagery. Our resources can be used free of charge for noncommercial purposes, provided that the photo is cited in our format (found on each photo’s page). \\n\\nIf you wish to use our photos and/or videos for commercial purposes — including distributing them in publications for profit — please follow the steps on our <a href=\"https://www.flickr.com/people/fractracker/\">‘About’ page</a>.\\n\\nAs a nonprofit, we work hard to gather and share our insights in publicly accessible ways. If you appreciate what you see here, follow us on Twitter, Instagram, or Facebook @fractracker, and donate if you can, at <a href=\"http://www.fractracker.org/donate\" rel=\"noreferrer nofollow\">www.fractracker.org/donate</a>!                                                                 1\n",
       "Name: count, dtype: int64"
      ]
     },
     "execution_count": 27,
     "metadata": {},
     "output_type": "execute_result"
    }
   ],
   "source": [
    "di['Description'].str.split('\\n').str[1:].str.join('\\n').value_counts()\n"
   ]
  },
  {
   "cell_type": "code",
   "execution_count": 29,
   "metadata": {},
   "outputs": [
    {
     "data": {
      "text/plain": [
       "9"
      ]
     },
     "execution_count": 29,
     "metadata": {},
     "output_type": "execute_result"
    }
   ],
   "source": [
    "len(di['Description'].str.split('\\n').str[1:].str.join('\\n').value_counts())"
   ]
  },
  {
   "cell_type": "code",
   "execution_count": null,
   "metadata": {},
   "outputs": [],
   "source": []
  }
 ],
 "metadata": {
  "kernelspec": {
   "display_name": "Python 3 (ipykernel)",
   "language": "python",
   "name": "python3"
  },
  "language_info": {
   "codemirror_mode": {
    "name": "ipython",
    "version": 3
   },
   "file_extension": ".py",
   "mimetype": "text/x-python",
   "name": "python",
   "nbconvert_exporter": "python",
   "pygments_lexer": "ipython3",
   "version": "3.12.4"
  }
 },
 "nbformat": 4,
 "nbformat_minor": 5
}
