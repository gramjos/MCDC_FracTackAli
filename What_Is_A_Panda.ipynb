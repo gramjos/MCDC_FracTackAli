{
 "cells": [
  {
   "cell_type": "markdown",
   "metadata": {},
   "source": [
    "# Reviewing the Pandas Janitor Closet\n",
    "### _Cleaning Tools_"
   ]
  },
  {
   "cell_type": "code",
   "execution_count": 2,
   "metadata": {},
   "outputs": [],
   "source": [
    "import pandas as pd"
   ]
  },
  {
   "cell_type": "code",
   "execution_count": 3,
   "metadata": {},
   "outputs": [
    {
     "data": {
      "text/plain": [
       "(2718, 8)"
      ]
     },
     "execution_count": 3,
     "metadata": {},
     "output_type": "execute_result"
    }
   ],
   "source": [
    "df = pd.read_csv('data/tidied_threaded_data_pull.csv') # get the file \n",
    "df.shape # get its dimensions and inspect in data viewer"
   ]
  },
  {
   "cell_type": "markdown",
   "metadata": {},
   "source": [
    "# Accessor review\n",
    "### `iloc`\n",
    "Select the first and third row with the second and fifth columns by index\n",
    "```python\n",
    "df.iloc[[1,3], [2,5]]\n",
    "```\n",
    "Select the first and third row with the second and fifth columns by column name\n",
    "### `loc`\n",
    "```python\n",
    "df.loc[[1,3], ['Title','URL']]\n",
    "```\n",
    "**Note**, dataframe indexes do not have to be sequential numbers. Selecting by labelled index is done with `loc`"
   ]
  },
  {
   "cell_type": "code",
   "execution_count": 5,
   "metadata": {},
   "outputs": [
    {
     "data": {
      "text/html": [
       "<div>\n",
       "<style scoped>\n",
       "    .dataframe tbody tr th:only-of-type {\n",
       "        vertical-align: middle;\n",
       "    }\n",
       "\n",
       "    .dataframe tbody tr th {\n",
       "        vertical-align: top;\n",
       "    }\n",
       "\n",
       "    .dataframe thead th {\n",
       "        text-align: right;\n",
       "    }\n",
       "</style>\n",
       "<table border=\"1\" class=\"dataframe\">\n",
       "  <thead>\n",
       "    <tr style=\"text-align: right;\">\n",
       "      <th></th>\n",
       "      <th>Title</th>\n",
       "      <th>URL</th>\n",
       "    </tr>\n",
       "  </thead>\n",
       "  <tbody>\n",
       "    <tr>\n",
       "      <th>1</th>\n",
       "      <td>TAuch_FracSand-Mine-USSilica-Ottawa_IL_LightHa...</td>\n",
       "      <td>https://www.flickr.com/photos/fractracker/4972...</td>\n",
       "    </tr>\n",
       "    <tr>\n",
       "      <th>3</th>\n",
       "      <td>TAuch_FracSand-Mine-Unimin-NorthUtica_IL_Light...</td>\n",
       "      <td>https://www.flickr.com/photos/fractracker/4972...</td>\n",
       "    </tr>\n",
       "  </tbody>\n",
       "</table>\n",
       "</div>"
      ],
      "text/plain": [
       "                                               Title  \\\n",
       "1  TAuch_FracSand-Mine-USSilica-Ottawa_IL_LightHa...   \n",
       "3  TAuch_FracSand-Mine-Unimin-NorthUtica_IL_Light...   \n",
       "\n",
       "                                                 URL  \n",
       "1  https://www.flickr.com/photos/fractracker/4972...  \n",
       "3  https://www.flickr.com/photos/fractracker/4972...  "
      ]
     },
     "execution_count": 5,
     "metadata": {},
     "output_type": "execute_result"
    }
   ],
   "source": [
    "df.iloc[[1,3], [2,5]] # \"Get Those 2 Rows At those Two Columns\""
   ]
  },
  {
   "cell_type": "code",
   "execution_count": 6,
   "metadata": {},
   "outputs": [
    {
     "data": {
      "text/html": [
       "<div>\n",
       "<style scoped>\n",
       "    .dataframe tbody tr th:only-of-type {\n",
       "        vertical-align: middle;\n",
       "    }\n",
       "\n",
       "    .dataframe tbody tr th {\n",
       "        vertical-align: top;\n",
       "    }\n",
       "\n",
       "    .dataframe thead th {\n",
       "        text-align: right;\n",
       "    }\n",
       "</style>\n",
       "<table border=\"1\" class=\"dataframe\">\n",
       "  <thead>\n",
       "    <tr style=\"text-align: right;\">\n",
       "      <th></th>\n",
       "      <th>Title</th>\n",
       "      <th>URL</th>\n",
       "    </tr>\n",
       "  </thead>\n",
       "  <tbody>\n",
       "    <tr>\n",
       "      <th>1</th>\n",
       "      <td>TAuch_FracSand-Mine-USSilica-Ottawa_IL_LightHa...</td>\n",
       "      <td>https://www.flickr.com/photos/fractracker/4972...</td>\n",
       "    </tr>\n",
       "    <tr>\n",
       "      <th>3</th>\n",
       "      <td>TAuch_FracSand-Mine-Unimin-NorthUtica_IL_Light...</td>\n",
       "      <td>https://www.flickr.com/photos/fractracker/4972...</td>\n",
       "    </tr>\n",
       "  </tbody>\n",
       "</table>\n",
       "</div>"
      ],
      "text/plain": [
       "                                               Title  \\\n",
       "1  TAuch_FracSand-Mine-USSilica-Ottawa_IL_LightHa...   \n",
       "3  TAuch_FracSand-Mine-Unimin-NorthUtica_IL_Light...   \n",
       "\n",
       "                                                 URL  \n",
       "1  https://www.flickr.com/photos/fractracker/4972...  \n",
       "3  https://www.flickr.com/photos/fractracker/4972...  "
      ]
     },
     "execution_count": 6,
     "metadata": {},
     "output_type": "execute_result"
    }
   ],
   "source": [
    "df.loc[[1,3], ['Title','URL']] # same same but different 😆"
   ]
  },
  {
   "cell_type": "code",
   "execution_count": 7,
   "metadata": {},
   "outputs": [
    {
     "data": {
      "text/html": [
       "<div>\n",
       "<style scoped>\n",
       "    .dataframe tbody tr th:only-of-type {\n",
       "        vertical-align: middle;\n",
       "    }\n",
       "\n",
       "    .dataframe tbody tr th {\n",
       "        vertical-align: top;\n",
       "    }\n",
       "\n",
       "    .dataframe thead th {\n",
       "        text-align: right;\n",
       "    }\n",
       "</style>\n",
       "<table border=\"1\" class=\"dataframe\">\n",
       "  <thead>\n",
       "    <tr style=\"text-align: right;\">\n",
       "      <th></th>\n",
       "      <th>Title</th>\n",
       "      <th>URL</th>\n",
       "    </tr>\n",
       "  </thead>\n",
       "  <tbody>\n",
       "    <tr>\n",
       "      <th>1</th>\n",
       "      <td>TAuch_FracSand-Mine-USSilica-Ottawa_IL_LightHa...</td>\n",
       "      <td>https://www.flickr.com/photos/fractracker/4972...</td>\n",
       "    </tr>\n",
       "    <tr>\n",
       "      <th>2</th>\n",
       "      <td>TAuch_FracSand-Mine-USSilica-Ottawa_IL_LightHa...</td>\n",
       "      <td>https://www.flickr.com/photos/fractracker/4972...</td>\n",
       "    </tr>\n",
       "    <tr>\n",
       "      <th>3</th>\n",
       "      <td>TAuch_FracSand-Mine-Unimin-NorthUtica_IL_Light...</td>\n",
       "      <td>https://www.flickr.com/photos/fractracker/4972...</td>\n",
       "    </tr>\n",
       "  </tbody>\n",
       "</table>\n",
       "</div>"
      ],
      "text/plain": [
       "                                               Title  \\\n",
       "1  TAuch_FracSand-Mine-USSilica-Ottawa_IL_LightHa...   \n",
       "2  TAuch_FracSand-Mine-USSilica-Ottawa_IL_LightHa...   \n",
       "3  TAuch_FracSand-Mine-Unimin-NorthUtica_IL_Light...   \n",
       "\n",
       "                                                 URL  \n",
       "1  https://www.flickr.com/photos/fractracker/4972...  \n",
       "2  https://www.flickr.com/photos/fractracker/4972...  \n",
       "3  https://www.flickr.com/photos/fractracker/4972...  "
      ]
     },
     "execution_count": 7,
     "metadata": {},
     "output_type": "execute_result"
    }
   ],
   "source": [
    "#### `loc` is for inclusive range selection\n",
    "df.loc[1:3, ['Title','URL']]"
   ]
  },
  {
   "cell_type": "code",
   "execution_count": 8,
   "metadata": {},
   "outputs": [
    {
     "data": {
      "text/html": [
       "<div>\n",
       "<style scoped>\n",
       "    .dataframe tbody tr th:only-of-type {\n",
       "        vertical-align: middle;\n",
       "    }\n",
       "\n",
       "    .dataframe tbody tr th {\n",
       "        vertical-align: top;\n",
       "    }\n",
       "\n",
       "    .dataframe thead th {\n",
       "        text-align: right;\n",
       "    }\n",
       "</style>\n",
       "<table border=\"1\" class=\"dataframe\">\n",
       "  <thead>\n",
       "    <tr style=\"text-align: right;\">\n",
       "      <th></th>\n",
       "      <th>Title</th>\n",
       "      <th>URL</th>\n",
       "    </tr>\n",
       "  </thead>\n",
       "  <tbody>\n",
       "    <tr>\n",
       "      <th>1</th>\n",
       "      <td>TAuch_FracSand-Mine-USSilica-Ottawa_IL_LightHa...</td>\n",
       "      <td>https://www.flickr.com/photos/fractracker/4972...</td>\n",
       "    </tr>\n",
       "    <tr>\n",
       "      <th>2</th>\n",
       "      <td>TAuch_FracSand-Mine-USSilica-Ottawa_IL_LightHa...</td>\n",
       "      <td>https://www.flickr.com/photos/fractracker/4972...</td>\n",
       "    </tr>\n",
       "    <tr>\n",
       "      <th>3</th>\n",
       "      <td>TAuch_FracSand-Mine-Unimin-NorthUtica_IL_Light...</td>\n",
       "      <td>https://www.flickr.com/photos/fractracker/4972...</td>\n",
       "    </tr>\n",
       "  </tbody>\n",
       "</table>\n",
       "</div>"
      ],
      "text/plain": [
       "                                               Title  \\\n",
       "1  TAuch_FracSand-Mine-USSilica-Ottawa_IL_LightHa...   \n",
       "2  TAuch_FracSand-Mine-USSilica-Ottawa_IL_LightHa...   \n",
       "3  TAuch_FracSand-Mine-Unimin-NorthUtica_IL_Light...   \n",
       "\n",
       "                                                 URL  \n",
       "1  https://www.flickr.com/photos/fractracker/4972...  \n",
       "2  https://www.flickr.com/photos/fractracker/4972...  \n",
       "3  https://www.flickr.com/photos/fractracker/4972...  "
      ]
     },
     "execution_count": 8,
     "metadata": {},
     "output_type": "execute_result"
    }
   ],
   "source": [
    "#### `iloc` is for exclusive range selection\n",
    "df.iloc[1:4, [2,5]]"
   ]
  },
  {
   "cell_type": "markdown",
   "metadata": {},
   "source": [
    "# Series Boolean Comparison"
   ]
  },
  {
   "cell_type": "code",
   "execution_count": 9,
   "metadata": {},
   "outputs": [
    {
     "data": {
      "text/plain": [
       "True"
      ]
     },
     "execution_count": 9,
     "metadata": {},
     "output_type": "execute_result"
    }
   ],
   "source": [
    "all(pd.Series([True, True])) # if everything in all() is True then return True. "
   ]
  },
  {
   "cell_type": "code",
   "execution_count": 10,
   "metadata": {},
   "outputs": [
    {
     "data": {
      "text/plain": [
       "False"
      ]
     },
     "execution_count": 10,
     "metadata": {},
     "output_type": "execute_result"
    }
   ],
   "source": [
    "all(pd.Series([False, False])) # Note, if everything in all() is False then return False."
   ]
  },
  {
   "cell_type": "code",
   "execution_count": 18,
   "metadata": {},
   "outputs": [
    {
     "data": {
      "text/plain": [
       "np.False_"
      ]
     },
     "execution_count": 18,
     "metadata": {},
     "output_type": "execute_result"
    }
   ],
   "source": [
    "pd.Series([False, False]).all()"
   ]
  },
  {
   "cell_type": "markdown",
   "metadata": {},
   "source": [
    "# Releasing Heavy Dataframe form memory"
   ]
  },
  {
   "cell_type": "code",
   "execution_count": 16,
   "metadata": {},
   "outputs": [
    {
     "data": {
      "text/plain": [
       "(2613, 8)"
      ]
     },
     "execution_count": 16,
     "metadata": {},
     "output_type": "execute_result"
    }
   ],
   "source": [
    "# demonstrate a way to delete a dataframe. This is useful when you have a large dataframe that you no longer need. In this case, `test` is very small though.\n",
    "test = df[df.loc[:,'Title'].map(lambda x: x.split('_')[0] in ['TAuch'])]\n",
    "test.shape"
   ]
  },
  {
   "cell_type": "code",
   "execution_count": 17,
   "metadata": {},
   "outputs": [
    {
     "data": {
      "text/plain": [
       "1103"
      ]
     },
     "execution_count": 17,
     "metadata": {},
     "output_type": "execute_result"
    }
   ],
   "source": [
    "del test\n",
    "import gc # garbage collection\n",
    "gc.collect() # Returns the number of objects it has collected and deallocated"
   ]
  },
  {
   "cell_type": "code",
   "execution_count": null,
   "metadata": {},
   "outputs": [],
   "source": []
  }
 ],
 "metadata": {
  "kernelspec": {
   "display_name": "geo_realm",
   "language": "python",
   "name": "python3"
  },
  "language_info": {
   "codemirror_mode": {
    "name": "ipython",
    "version": 3
   },
   "file_extension": ".py",
   "mimetype": "text/x-python",
   "name": "python",
   "nbconvert_exporter": "python",
   "pygments_lexer": "ipython3",
   "version": "3.12.4"
  }
 },
 "nbformat": 4,
 "nbformat_minor": 2
}
